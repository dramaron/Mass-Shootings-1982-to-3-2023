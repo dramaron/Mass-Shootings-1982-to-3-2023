{
 "cells": [
  {
   "cell_type": "code",
   "execution_count": 10,
   "id": "343922e8",
   "metadata": {},
   "outputs": [
    {
     "name": "stdout",
     "output_type": "stream",
     "text": [
      "                                  case                   location     date  \\\n",
      "0           Texas outlet mall shooting               Allen, Texas   5/6/23   \n",
      "1             Louisville bank shooting       Louisville, Kentucky  4/10/23   \n",
      "2  Nashville Christian school shooting       Nashville, Tennessee  3/27/23   \n",
      "3   Michigan State University shooting     East Lansing, Michigan  2/13/23   \n",
      "4         Half Moon Bay spree shooting  Half Moon Bay, California  1/23/23   \n",
      "\n",
      "                                             summary  fatalities injured  \\\n",
      "0  Mauricio Garcia, 33, wore tactical gear and us...           8       7   \n",
      "1  Connor Sturgeon, 25, opened fire inside Old Na...           5       8   \n",
      "2  Audrey Hale, 28, who was a former student at t...           6       6   \n",
      "3  Anthony D. McRae, 43, opened fire at Berkey Ha...           3       5   \n",
      "4  Chunli Zhao, 67, suspected of carrying out the...           7       1   \n",
      "\n",
      "  total_victims location.1 age_of_shooter prior_signs_mental_health_issues  \\\n",
      "0            15      Other             33                              yes   \n",
      "1            13  workplace             25                              yes   \n",
      "2            12     School             28                                -   \n",
      "3             8     School             43                                -   \n",
      "4             8  workplace             67                                -   \n",
      "\n",
      "   ...     weapon_details   race  \\\n",
      "0  ...  AR-15-style rifle      -   \n",
      "1  ...        AR-15 rifle  White   \n",
      "2  ...                  -  White   \n",
      "3  ...                  -  Black   \n",
      "4  ...                  -  Asian   \n",
      "\n",
      "                                              gender  \\\n",
      "0                                                  M   \n",
      "1                                                  M   \n",
      "2  F (\"identifies as transgender\" and \"Audrey Hal...   \n",
      "3                                                  M   \n",
      "4                                                  M   \n",
      "\n",
      "                                             sources mental_health_sources  \\\n",
      "0  https://www.nytimes.com/2023/05/07/us/texas-ma...                     -   \n",
      "1  https://apnews.com/article/downtown-louisville...                     -   \n",
      "2  https://www.tennessean.com/story/news/crime/20...                     -   \n",
      "3  https://www.cnn.com/us/live-news/michigan-stat...                     -   \n",
      "4  https://www.cnn.com/us/live-news/half-moon-bay...                     -   \n",
      "\n",
      "  sources_additional_age latitude longitude   type  year  \n",
      "0                      -        -         -   Mass  2023  \n",
      "1                      -        -         -   Mass  2023  \n",
      "2                      -        -         -   Mass  2023  \n",
      "3                      -        -         -   Mass  2023  \n",
      "4                      -        -         -  Spree  2023  \n",
      "\n",
      "[5 rows x 24 columns]\n"
     ]
    }
   ],
   "source": [
    "import pandas as pd\n",
    "import matplotlib.pyplot as plt\n",
    "# Source of the data: https://www.motherjones.com/politics/2012/12/mass-shootings-mother-jones-full-data/\n",
    "# Import the CSV file\n",
    "df = pd.read_csv('G:/My Drive/My Documents/Courses/Data Science/csv/Mother Jones - Mass Shootings Database, 1982 - 2023 - Sheet1.csv')\n",
    "\n",
    "# Print the first 5 rows of the DataFrame\n",
    "print(df.head())\n"
   ]
  },
  {
   "cell_type": "code",
   "execution_count": 9,
   "id": "ae7dd9b3",
   "metadata": {},
   "outputs": [
    {
     "data": {
      "text/html": [
       "<div>\n",
       "<style scoped>\n",
       "    .dataframe tbody tr th:only-of-type {\n",
       "        vertical-align: middle;\n",
       "    }\n",
       "\n",
       "    .dataframe tbody tr th {\n",
       "        vertical-align: top;\n",
       "    }\n",
       "\n",
       "    .dataframe thead th {\n",
       "        text-align: right;\n",
       "    }\n",
       "</style>\n",
       "<table border=\"1\" class=\"dataframe\">\n",
       "  <thead>\n",
       "    <tr style=\"text-align: right;\">\n",
       "      <th></th>\n",
       "      <th>case</th>\n",
       "      <th>location</th>\n",
       "      <th>date</th>\n",
       "      <th>summary</th>\n",
       "      <th>fatalities</th>\n",
       "      <th>injured</th>\n",
       "      <th>total_victims</th>\n",
       "      <th>location.1</th>\n",
       "      <th>age_of_shooter</th>\n",
       "      <th>prior_signs_mental_health_issues</th>\n",
       "      <th>...</th>\n",
       "      <th>weapon_details</th>\n",
       "      <th>race</th>\n",
       "      <th>gender</th>\n",
       "      <th>sources</th>\n",
       "      <th>mental_health_sources</th>\n",
       "      <th>sources_additional_age</th>\n",
       "      <th>latitude</th>\n",
       "      <th>longitude</th>\n",
       "      <th>type</th>\n",
       "      <th>year</th>\n",
       "    </tr>\n",
       "  </thead>\n",
       "  <tbody>\n",
       "    <tr>\n",
       "      <th>0</th>\n",
       "      <td>Texas outlet mall shooting</td>\n",
       "      <td>Allen, Texas</td>\n",
       "      <td>5/6/23</td>\n",
       "      <td>Mauricio Garcia, 33, wore tactical gear and us...</td>\n",
       "      <td>8</td>\n",
       "      <td>7</td>\n",
       "      <td>15</td>\n",
       "      <td>Other</td>\n",
       "      <td>33</td>\n",
       "      <td>yes</td>\n",
       "      <td>...</td>\n",
       "      <td>AR-15-style rifle</td>\n",
       "      <td>-</td>\n",
       "      <td>M</td>\n",
       "      <td>https://www.nytimes.com/2023/05/07/us/texas-ma...</td>\n",
       "      <td>-</td>\n",
       "      <td>-</td>\n",
       "      <td>-</td>\n",
       "      <td>-</td>\n",
       "      <td>Mass</td>\n",
       "      <td>2023</td>\n",
       "    </tr>\n",
       "    <tr>\n",
       "      <th>1</th>\n",
       "      <td>Louisville bank shooting</td>\n",
       "      <td>Louisville, Kentucky</td>\n",
       "      <td>4/10/23</td>\n",
       "      <td>Connor Sturgeon, 25, opened fire inside Old Na...</td>\n",
       "      <td>5</td>\n",
       "      <td>8</td>\n",
       "      <td>13</td>\n",
       "      <td>workplace</td>\n",
       "      <td>25</td>\n",
       "      <td>yes</td>\n",
       "      <td>...</td>\n",
       "      <td>AR-15 rifle</td>\n",
       "      <td>White</td>\n",
       "      <td>M</td>\n",
       "      <td>https://apnews.com/article/downtown-louisville...</td>\n",
       "      <td>-</td>\n",
       "      <td>-</td>\n",
       "      <td>-</td>\n",
       "      <td>-</td>\n",
       "      <td>Mass</td>\n",
       "      <td>2023</td>\n",
       "    </tr>\n",
       "    <tr>\n",
       "      <th>2</th>\n",
       "      <td>Nashville Christian school shooting</td>\n",
       "      <td>Nashville, Tennessee</td>\n",
       "      <td>3/27/23</td>\n",
       "      <td>Audrey Hale, 28, who was a former student at t...</td>\n",
       "      <td>6</td>\n",
       "      <td>6</td>\n",
       "      <td>12</td>\n",
       "      <td>School</td>\n",
       "      <td>28</td>\n",
       "      <td>-</td>\n",
       "      <td>...</td>\n",
       "      <td>-</td>\n",
       "      <td>White</td>\n",
       "      <td>F (\"identifies as transgender\" and \"Audrey Hal...</td>\n",
       "      <td>https://www.tennessean.com/story/news/crime/20...</td>\n",
       "      <td>-</td>\n",
       "      <td>-</td>\n",
       "      <td>-</td>\n",
       "      <td>-</td>\n",
       "      <td>Mass</td>\n",
       "      <td>2023</td>\n",
       "    </tr>\n",
       "    <tr>\n",
       "      <th>3</th>\n",
       "      <td>Michigan State University shooting</td>\n",
       "      <td>East Lansing, Michigan</td>\n",
       "      <td>2/13/23</td>\n",
       "      <td>Anthony D. McRae, 43, opened fire at Berkey Ha...</td>\n",
       "      <td>3</td>\n",
       "      <td>5</td>\n",
       "      <td>8</td>\n",
       "      <td>School</td>\n",
       "      <td>43</td>\n",
       "      <td>-</td>\n",
       "      <td>...</td>\n",
       "      <td>-</td>\n",
       "      <td>Black</td>\n",
       "      <td>M</td>\n",
       "      <td>https://www.cnn.com/us/live-news/michigan-stat...</td>\n",
       "      <td>-</td>\n",
       "      <td>-</td>\n",
       "      <td>-</td>\n",
       "      <td>-</td>\n",
       "      <td>Mass</td>\n",
       "      <td>2023</td>\n",
       "    </tr>\n",
       "    <tr>\n",
       "      <th>4</th>\n",
       "      <td>Half Moon Bay spree shooting</td>\n",
       "      <td>Half Moon Bay, California</td>\n",
       "      <td>1/23/23</td>\n",
       "      <td>Chunli Zhao, 67, suspected of carrying out the...</td>\n",
       "      <td>7</td>\n",
       "      <td>1</td>\n",
       "      <td>8</td>\n",
       "      <td>workplace</td>\n",
       "      <td>67</td>\n",
       "      <td>-</td>\n",
       "      <td>...</td>\n",
       "      <td>-</td>\n",
       "      <td>Asian</td>\n",
       "      <td>M</td>\n",
       "      <td>https://www.cnn.com/us/live-news/half-moon-bay...</td>\n",
       "      <td>-</td>\n",
       "      <td>-</td>\n",
       "      <td>-</td>\n",
       "      <td>-</td>\n",
       "      <td>Spree</td>\n",
       "      <td>2023</td>\n",
       "    </tr>\n",
       "    <tr>\n",
       "      <th>...</th>\n",
       "      <td>...</td>\n",
       "      <td>...</td>\n",
       "      <td>...</td>\n",
       "      <td>...</td>\n",
       "      <td>...</td>\n",
       "      <td>...</td>\n",
       "      <td>...</td>\n",
       "      <td>...</td>\n",
       "      <td>...</td>\n",
       "      <td>...</td>\n",
       "      <td>...</td>\n",
       "      <td>...</td>\n",
       "      <td>...</td>\n",
       "      <td>...</td>\n",
       "      <td>...</td>\n",
       "      <td>...</td>\n",
       "      <td>...</td>\n",
       "      <td>...</td>\n",
       "      <td>...</td>\n",
       "      <td>...</td>\n",
       "      <td>...</td>\n",
       "    </tr>\n",
       "    <tr>\n",
       "      <th>138</th>\n",
       "      <td>Shopping centers spree killings</td>\n",
       "      <td>Palm Bay, Florida</td>\n",
       "      <td>4/23/1987</td>\n",
       "      <td>Retired librarian William Cruse, 59, was paran...</td>\n",
       "      <td>6</td>\n",
       "      <td>14</td>\n",
       "      <td>20</td>\n",
       "      <td>Other</td>\n",
       "      <td>59</td>\n",
       "      <td>Yes</td>\n",
       "      <td>...</td>\n",
       "      <td>Sturm, Ruger Mini-14 semiautomatic rifle; 20-g...</td>\n",
       "      <td>white</td>\n",
       "      <td>Male</td>\n",
       "      <td>http://articles.latimes.com/1987-04-25/news/mn...</td>\n",
       "      <td>(Supreme Court of Florida Document) http://www...</td>\n",
       "      <td>http://articles.latimes.com/1987-04-25/news/mn...</td>\n",
       "      <td>28.0331886</td>\n",
       "      <td>-80.6429695</td>\n",
       "      <td>Spree</td>\n",
       "      <td>1987</td>\n",
       "    </tr>\n",
       "    <tr>\n",
       "      <th>139</th>\n",
       "      <td>United States Postal Service shooting</td>\n",
       "      <td>Edmond, Oklahoma</td>\n",
       "      <td>8/20/1986</td>\n",
       "      <td>Postal worker Patrick Sherrill, 44, opened fir...</td>\n",
       "      <td>15</td>\n",
       "      <td>6</td>\n",
       "      <td>21</td>\n",
       "      <td>Workplace</td>\n",
       "      <td>44</td>\n",
       "      <td>Unclear</td>\n",
       "      <td>...</td>\n",
       "      <td>.22-caliber, two .45-caliber Colt Model 1911-A...</td>\n",
       "      <td>white</td>\n",
       "      <td>Male</td>\n",
       "      <td>http://news.google.com/newspapers?id=dm8aAAAAI...</td>\n",
       "      <td>http://newsok.com/sherrill-feared-mental-illne...</td>\n",
       "      <td>http://news.google.com/newspapers?id=dm8aAAAAI...</td>\n",
       "      <td>35.6672015</td>\n",
       "      <td>-97.42937037</td>\n",
       "      <td>Mass</td>\n",
       "      <td>1986</td>\n",
       "    </tr>\n",
       "    <tr>\n",
       "      <th>140</th>\n",
       "      <td>San Ysidro McDonald's massacre</td>\n",
       "      <td>San Ysidro, California</td>\n",
       "      <td>7/18/1984</td>\n",
       "      <td>James Oliver Huberty, 41, opened fire in a McD...</td>\n",
       "      <td>22</td>\n",
       "      <td>19</td>\n",
       "      <td>41</td>\n",
       "      <td>Other</td>\n",
       "      <td>41</td>\n",
       "      <td>Yes</td>\n",
       "      <td>...</td>\n",
       "      <td>9mm Browning P35 Hi-Power semiautomatic handgu...</td>\n",
       "      <td>white</td>\n",
       "      <td>Male</td>\n",
       "      <td>http://www.utsandiego.com/san-ysidro-massacre/...</td>\n",
       "      <td>http://www.nctimes.com/news/local/article_2ba4...</td>\n",
       "      <td>http://www.utsandiego.com/san-ysidro-massacre/...</td>\n",
       "      <td>32.5520013</td>\n",
       "      <td>-117.0430813</td>\n",
       "      <td>Mass</td>\n",
       "      <td>1984</td>\n",
       "    </tr>\n",
       "    <tr>\n",
       "      <th>141</th>\n",
       "      <td>Dallas nightclub shooting</td>\n",
       "      <td>Dallas, Texas</td>\n",
       "      <td>6/29/1984</td>\n",
       "      <td>Abdelkrim Belachheb, 39, opened fire at an ups...</td>\n",
       "      <td>6</td>\n",
       "      <td>1</td>\n",
       "      <td>7</td>\n",
       "      <td>Other</td>\n",
       "      <td>39</td>\n",
       "      <td>Yes</td>\n",
       "      <td>...</td>\n",
       "      <td>9mm Smith &amp; Wesson 459 semiautomatic handgun</td>\n",
       "      <td>white</td>\n",
       "      <td>Male</td>\n",
       "      <td>http://books.google.com/books?id=Hr3OBwP-lbUC&amp;...</td>\n",
       "      <td>http://books.google.com/books?id=Hr3OBwP-lbUC&amp;...</td>\n",
       "      <td>http://books.google.com/books?id=Hr3OBwP-lbUC&amp;...</td>\n",
       "      <td>32.925166</td>\n",
       "      <td>-96.838676</td>\n",
       "      <td>Mass</td>\n",
       "      <td>1984</td>\n",
       "    </tr>\n",
       "    <tr>\n",
       "      <th>142</th>\n",
       "      <td>Welding shop shooting</td>\n",
       "      <td>Miami, Florida</td>\n",
       "      <td>8/20/1982</td>\n",
       "      <td>Junior high school teacher Carl Robert Brown, ...</td>\n",
       "      <td>8</td>\n",
       "      <td>3</td>\n",
       "      <td>11</td>\n",
       "      <td>Other</td>\n",
       "      <td>51</td>\n",
       "      <td>Yes</td>\n",
       "      <td>...</td>\n",
       "      <td>Mossberg 500 Persuader pump-action shotgun wit...</td>\n",
       "      <td>white</td>\n",
       "      <td>Male</td>\n",
       "      <td>http://www.nytimes.com/1982/08/21/us/gunman-in...</td>\n",
       "      <td>http://news.google.com/newspapers?id=uuYLAAAAI...</td>\n",
       "      <td>http://www.nytimes.com/1982/08/21/us/gunman-in...</td>\n",
       "      <td>25.796491</td>\n",
       "      <td>-80.226683</td>\n",
       "      <td>Mass</td>\n",
       "      <td>1982</td>\n",
       "    </tr>\n",
       "  </tbody>\n",
       "</table>\n",
       "<p>143 rows × 24 columns</p>\n",
       "</div>"
      ],
      "text/plain": [
       "                                      case                   location  \\\n",
       "0               Texas outlet mall shooting               Allen, Texas   \n",
       "1                 Louisville bank shooting       Louisville, Kentucky   \n",
       "2      Nashville Christian school shooting       Nashville, Tennessee   \n",
       "3       Michigan State University shooting     East Lansing, Michigan   \n",
       "4             Half Moon Bay spree shooting  Half Moon Bay, California   \n",
       "..                                     ...                        ...   \n",
       "138        Shopping centers spree killings          Palm Bay, Florida   \n",
       "139  United States Postal Service shooting           Edmond, Oklahoma   \n",
       "140         San Ysidro McDonald's massacre     San Ysidro, California   \n",
       "141              Dallas nightclub shooting              Dallas, Texas   \n",
       "142                  Welding shop shooting             Miami, Florida   \n",
       "\n",
       "          date                                            summary  fatalities  \\\n",
       "0       5/6/23  Mauricio Garcia, 33, wore tactical gear and us...           8   \n",
       "1      4/10/23  Connor Sturgeon, 25, opened fire inside Old Na...           5   \n",
       "2      3/27/23  Audrey Hale, 28, who was a former student at t...           6   \n",
       "3      2/13/23  Anthony D. McRae, 43, opened fire at Berkey Ha...           3   \n",
       "4      1/23/23  Chunli Zhao, 67, suspected of carrying out the...           7   \n",
       "..         ...                                                ...         ...   \n",
       "138  4/23/1987  Retired librarian William Cruse, 59, was paran...           6   \n",
       "139  8/20/1986  Postal worker Patrick Sherrill, 44, opened fir...          15   \n",
       "140  7/18/1984  James Oliver Huberty, 41, opened fire in a McD...          22   \n",
       "141  6/29/1984  Abdelkrim Belachheb, 39, opened fire at an ups...           6   \n",
       "142  8/20/1982  Junior high school teacher Carl Robert Brown, ...           8   \n",
       "\n",
       "    injured total_victims location.1 age_of_shooter  \\\n",
       "0         7            15      Other             33   \n",
       "1         8            13  workplace             25   \n",
       "2         6            12     School             28   \n",
       "3         5             8     School             43   \n",
       "4         1             8  workplace             67   \n",
       "..      ...           ...        ...            ...   \n",
       "138      14            20      Other             59   \n",
       "139       6            21  Workplace             44   \n",
       "140      19            41      Other             41   \n",
       "141       1             7      Other             39   \n",
       "142       3            11      Other             51   \n",
       "\n",
       "    prior_signs_mental_health_issues  ...  \\\n",
       "0                                yes  ...   \n",
       "1                                yes  ...   \n",
       "2                                  -  ...   \n",
       "3                                  -  ...   \n",
       "4                                  -  ...   \n",
       "..                               ...  ...   \n",
       "138                              Yes  ...   \n",
       "139                         Unclear   ...   \n",
       "140                              Yes  ...   \n",
       "141                              Yes  ...   \n",
       "142                              Yes  ...   \n",
       "\n",
       "                                        weapon_details   race  \\\n",
       "0                                    AR-15-style rifle      -   \n",
       "1                                          AR-15 rifle  White   \n",
       "2                                                    -  White   \n",
       "3                                                    -  Black   \n",
       "4                                                    -  Asian   \n",
       "..                                                 ...    ...   \n",
       "138  Sturm, Ruger Mini-14 semiautomatic rifle; 20-g...  white   \n",
       "139  .22-caliber, two .45-caliber Colt Model 1911-A...  white   \n",
       "140  9mm Browning P35 Hi-Power semiautomatic handgu...  white   \n",
       "141       9mm Smith & Wesson 459 semiautomatic handgun  white   \n",
       "142  Mossberg 500 Persuader pump-action shotgun wit...  white   \n",
       "\n",
       "                                                gender  \\\n",
       "0                                                    M   \n",
       "1                                                    M   \n",
       "2    F (\"identifies as transgender\" and \"Audrey Hal...   \n",
       "3                                                    M   \n",
       "4                                                    M   \n",
       "..                                                 ...   \n",
       "138                                               Male   \n",
       "139                                               Male   \n",
       "140                                               Male   \n",
       "141                                               Male   \n",
       "142                                               Male   \n",
       "\n",
       "                                               sources  \\\n",
       "0    https://www.nytimes.com/2023/05/07/us/texas-ma...   \n",
       "1    https://apnews.com/article/downtown-louisville...   \n",
       "2    https://www.tennessean.com/story/news/crime/20...   \n",
       "3    https://www.cnn.com/us/live-news/michigan-stat...   \n",
       "4    https://www.cnn.com/us/live-news/half-moon-bay...   \n",
       "..                                                 ...   \n",
       "138  http://articles.latimes.com/1987-04-25/news/mn...   \n",
       "139  http://news.google.com/newspapers?id=dm8aAAAAI...   \n",
       "140  http://www.utsandiego.com/san-ysidro-massacre/...   \n",
       "141  http://books.google.com/books?id=Hr3OBwP-lbUC&...   \n",
       "142  http://www.nytimes.com/1982/08/21/us/gunman-in...   \n",
       "\n",
       "                                 mental_health_sources  \\\n",
       "0                                                    -   \n",
       "1                                                    -   \n",
       "2                                                    -   \n",
       "3                                                    -   \n",
       "4                                                    -   \n",
       "..                                                 ...   \n",
       "138  (Supreme Court of Florida Document) http://www...   \n",
       "139  http://newsok.com/sherrill-feared-mental-illne...   \n",
       "140  http://www.nctimes.com/news/local/article_2ba4...   \n",
       "141  http://books.google.com/books?id=Hr3OBwP-lbUC&...   \n",
       "142  http://news.google.com/newspapers?id=uuYLAAAAI...   \n",
       "\n",
       "                                sources_additional_age    latitude  \\\n",
       "0                                                    -           -   \n",
       "1                                                    -           -   \n",
       "2                                                    -           -   \n",
       "3                                                    -           -   \n",
       "4                                                    -           -   \n",
       "..                                                 ...         ...   \n",
       "138  http://articles.latimes.com/1987-04-25/news/mn...  28.0331886   \n",
       "139  http://news.google.com/newspapers?id=dm8aAAAAI...  35.6672015   \n",
       "140  http://www.utsandiego.com/san-ysidro-massacre/...  32.5520013   \n",
       "141  http://books.google.com/books?id=Hr3OBwP-lbUC&...   32.925166   \n",
       "142  http://www.nytimes.com/1982/08/21/us/gunman-in...   25.796491   \n",
       "\n",
       "        longitude   type  year  \n",
       "0               -   Mass  2023  \n",
       "1               -   Mass  2023  \n",
       "2               -   Mass  2023  \n",
       "3               -   Mass  2023  \n",
       "4               -  Spree  2023  \n",
       "..            ...    ...   ...  \n",
       "138   -80.6429695  Spree  1987  \n",
       "139  -97.42937037   Mass  1986  \n",
       "140  -117.0430813   Mass  1984  \n",
       "141    -96.838676   Mass  1984  \n",
       "142    -80.226683   Mass  1982  \n",
       "\n",
       "[143 rows x 24 columns]"
      ]
     },
     "execution_count": 9,
     "metadata": {},
     "output_type": "execute_result"
    }
   ],
   "source": [
    "df"
   ]
  },
  {
   "cell_type": "code",
   "execution_count": 14,
   "id": "9f152b80",
   "metadata": {},
   "outputs": [
    {
     "name": "stdout",
     "output_type": "stream",
     "text": [
      "Other          51\n",
      "Workplace      45\n",
      "School         22\n",
      "Religious       7\n",
      "workplace       6\n",
      "Military        6\n",
      "Other\\n         3\n",
      "religious       1\n",
      "Airport         1\n",
      "\\nWorkplace     1\n",
      "Name: location.1, dtype: int64\n"
     ]
    }
   ],
   "source": [
    "freq_dist = df['location.1'].value_counts()\n",
    "print(freq_dist)"
   ]
  },
  {
   "cell_type": "code",
   "execution_count": 15,
   "id": "a05097c6",
   "metadata": {},
   "outputs": [
    {
     "data": {
      "text/plain": [
       "<AxesSubplot:>"
      ]
     },
     "execution_count": 15,
     "metadata": {},
     "output_type": "execute_result"
    },
    {
     "data": {
      "image/png": "[encoded data removed]",
      "text/plain": [
       "<Figure size 640x480 with 1 Axes>"
      ]
     },
     "metadata": {},
     "output_type": "display_data"
    }
   ],
   "source": [
    "freq_dist.plot(kind='bar')"
   ]
  },
  {
   "cell_type": "code",
   "execution_count": 16,
   "id": "8db6a3ce",
   "metadata": {},
   "outputs": [
    {
     "name": "stdout",
     "output_type": "stream",
     "text": [
      "                                       case                      location  \\\n",
      "0                Texas outlet mall shooting                  Allen, Texas   \n",
      "5             LA dance studio mass shooting     Monterey Park, California   \n",
      "7                       LGBTQ club shooting    Colorado Springs, Colorado   \n",
      "9                    Raleigh spree shooting     Hedingham, North Carolina   \n",
      "11     Highland Park July 4 parade shooting       Highland Park, Illinois   \n",
      "26       Jersey City kosher market shooting       Jersey City, New Jersey   \n",
      "28            Odessa-Midland shooting spree                 Odessa, Texas   \n",
      "29   Dayton entertainment district shooting                  Dayton, Ohio   \n",
      "31          Gilroy garlic festival shooting            Gilroy, California   \n",
      "34          Pennsylvania hotel bar shooting   State College, Pennsylvania   \n",
      "37         Thousand Oaks nightclub shooting     Thousand Oaks, California   \n",
      "44                    Waffle House shooting          Nashville, Tennessee   \n",
      "47            Pennsylvania carwash shooting        Melcroft, Pennsylvania   \n",
      "48             Rancho Tehama shooting spree     Rancho Tehama, California   \n",
      "50      Walmart shooting in suburban Denver            Thornton, Colorado   \n",
      "52                 Las Vegas Strip massacre             Las Vegas, Nevada   \n",
      "57                 Fresno downtown shooting            Fresno, California   \n",
      "59                    Cascade Mall shooting        Burlington, Washington   \n",
      "60              Baton Rouge police shooting         Baton Rouge, Lousiana   \n",
      "61                   Dallas police shooting                 Dallas, Texas   \n",
      "62               Orlando nightclub massacre              Orlando, Florida   \n",
      "64                 Kalamazoo shooting spree    Kalamazoo County, Michigan   \n",
      "67        Colorado Springs shooting rampage    Colorado Springs, Colorado   \n",
      "71            Trestle Trail bridge shooting            Menasha, Wisconsin   \n",
      "75                  Alturas tribal shooting           Alturas, California   \n",
      "77               Hialeah apartment shooting              Hialeah, Florida   \n",
      "78                     Santa Monica rampage      Santa Monica, California   \n",
      "79      Pinewood Village Apartment shooting       Federal Way, Washington   \n",
      "80                  Mohawk Valley shootings     Herkimer County, New York   \n",
      "84                  Aurora theater shooting              Aurora, Colorado   \n",
      "85                    Seattle cafe shooting           Seattle, Washington   \n",
      "87            Su Jung Health Sauna shooting             Norcross, Georgia   \n",
      "88                      Seal Beach shooting        Seal Beach, California   \n",
      "89                            IHOP shooting           Carson City, Nevada   \n",
      "90                          Tucson shooting               Tucson, Arizona   \n",
      "92              Coffee shop police killings          Parkland, Washington   \n",
      "94                     Binghamton shootings          Binghamton, New York   \n",
      "95           Carthage nursing home shooting      Carthage, North Carolina   \n",
      "98           Kirkwood City Council shooting            Kirkwood, Missouri   \n",
      "99                  Westroads Mall shooting               Omaha, Nebraska   \n",
      "100                        Crandon shooting            Crandon, Wisconsin   \n",
      "102                 Trolley Square shooting          Salt Lake City, Utah   \n",
      "104                   Capitol Hill massacre           Seattle, Washington   \n",
      "108                Damageplan show shooting                Columbus, Ohio   \n",
      "126          Long Island Rail Road massacre         Garden City, New York   \n",
      "127                        Luigi's shooting  Fayetteville, North Carolina   \n",
      "128         101 California Street shootings     San Francisco, California   \n",
      "129                   Watkins Glen killings        Watkins Glen, New York   \n",
      "133                         Luby's massacre                Killeen, Texas   \n",
      "134                           GMAC massacre         Jacksonville, Florida   \n",
      "138         Shopping centers spree killings             Palm Bay, Florida   \n",
      "140          San Ysidro McDonald's massacre        San Ysidro, California   \n",
      "141               Dallas nightclub shooting                 Dallas, Texas   \n",
      "142                   Welding shop shooting                Miami, Florida   \n",
      "\n",
      "           date                                            summary  \\\n",
      "0        5/6/23  Mauricio Garcia, 33, wore tactical gear and us...   \n",
      "5       1/21/23  Huu Can Tran, 72, fled the scene in a white va...   \n",
      "7      11/19/22  Anderson L. Aldrich, 22, wore body armor and o...   \n",
      "9      10/13/22  Austin Thompson, 15, went on a rampage in the ...   \n",
      "11       7/4/22  Suspected gunman Robert \"Bobby\" Crimo, 21, all...   \n",
      "26     12/10/19  David N. Anderson, 47, and Francine Graham, 50...   \n",
      "28      8/31/19  Seth A. Ator, 36, fired at police officers who...   \n",
      "29       8/4/19  Connor Betts, 24, died during the attack, foll...   \n",
      "31      7/28/19  Santino William LeGan, 19, fired indiscriminat...   \n",
      "34      1/24/19  Jordan Witmer, 21, shot three people at a Rama...   \n",
      "37      11/7/18  Ian David Long, 28, dressed in black and armed...   \n",
      "44      4/22/18  Travis Reinking, 29, opened fire around 3:30 a...   \n",
      "47      1/28/18  Timothy O'Brien Smith, 28, wearing body armor ...   \n",
      "48     11/14/17  Kevin Janson Neal, 44, went on an approximatel...   \n",
      "50      11/1/17  Scott Allen Ostrem, 47, walked into a Walmart ...   \n",
      "52      10/1/17  Stephen Craig Paddock, 64, fired a barrage of ...   \n",
      "57    4/18/2017  Kori Ali Muhammad, 39, opened fire along a str...   \n",
      "59    9/23/2016  Arcan Cetin, 20, killed a teen girl and three ...   \n",
      "60    7/17/2016  Gavin Long, 29, a former Marine who served in ...   \n",
      "61     7/7/2016  Micah Xavier Johnson, a 25-year-old Army veter...   \n",
      "62    6/12/2016  Omar Mateen, 29, attacked the Pulse nighclub i...   \n",
      "64    2/20/2016  Jason B. Dalton, a driver for Uber, apparently...   \n",
      "67   10/31/2015  Noah Harpham, 33, shot three people before dea...   \n",
      "71    6/11/2015  Sergio Valencia del Toro, 27, in what official...   \n",
      "75    2/20/2014  Cherie Lash Rhoades, 44, opened fire at the Ce...   \n",
      "77    7/26/2013  Pedro Vargas, 42, set fire to his apartment, k...   \n",
      "78     6/7/2013  John Zawahri, 23, armed with a homemade assaul...   \n",
      "79    4/21/2013  Dennis Clark III, 27, shot and killed his girl...   \n",
      "80    3/13/2013  Kurt Myers, 64, shot six people in neighboring...   \n",
      "84    7/20/2012  James Holmes, 24, opened fire in a movie theat...   \n",
      "85    5/20/2012  Ian Stawicki, 40, gunned down four patrons at ...   \n",
      "87    2/21/2012  Jeong Soo Paek, 59, returned to a Korean spa f...   \n",
      "88   10/12/2011  Scott Evans Dekraai, 42, opened fire inside a ...   \n",
      "89     9/6/2011  Eduardo Sencion, 32, opened fire at an Interna...   \n",
      "90     1/8/2011  Jared Loughner, 22, opened fire outside a Safe...   \n",
      "92   11/29/2009  Maurice Clemmons, 37, a felon who was out on b...   \n",
      "94     4/3/2009  Jiverly Wong, 41, opened fire at an American C...   \n",
      "95    3/29/2009  Robert Stewart, 45, opened fire at a nursing h...   \n",
      "98     2/7/2008  Charles \"Cookie\" Lee Thornton, 52, went on a r...   \n",
      "99    12/5/2007  Robert A. Hawkins, 19, opened fire inside West...   \n",
      "100   10/7/2007  Off-duty sheriff's deputy Tyler Peterson, 20, ...   \n",
      "102   2/12/2007  Sulejman Talović, 18, rampaged through the sh...   \n",
      "104   3/25/2006  Kyle Aaron Huff, 28, opened fire at a rave aft...   \n",
      "108   12/8/2004  Nathan Gale, 25, possibly upset about the brea...   \n",
      "126   12/7/1993  Colin Ferguson, 35, opened fire on an eastboun...   \n",
      "127    8/6/1993  Army Sgt. Kenneth Junior French, 22, opened fi...   \n",
      "128    7/1/1993  Failed businessman Gian Luigi Ferri, 55, opene...   \n",
      "129  10/15/1992  John T. Miller, 50, killed four child-support ...   \n",
      "133  10/16/1991  George Hennard, 35, drove his pickup truck int...   \n",
      "134   6/18/1990  James Edward Pough, 42, opened fire at a Gener...   \n",
      "138   4/23/1987  Retired librarian William Cruse, 59, was paran...   \n",
      "140   7/18/1984  James Oliver Huberty, 41, opened fire in a McD...   \n",
      "141   6/29/1984  Abdelkrim Belachheb, 39, opened fire at an ups...   \n",
      "142   8/20/1982  Junior high school teacher Carl Robert Brown, ...   \n",
      "\n",
      "     fatalities injured total_victims location.1 age_of_shooter  \\\n",
      "0             8       7            15      Other             33   \n",
      "5            11      10            21      Other             72   \n",
      "7             5      25            30      Other             22   \n",
      "9             5       2             7      Other             15   \n",
      "11            7      46            53      Other             21   \n",
      "26            4       3             7      Other              -   \n",
      "28            7      25            32      Other             36   \n",
      "29            9      27            36      Other             24   \n",
      "31            3      12            15      Other             19   \n",
      "34            3       1             4      Other             21   \n",
      "37           12      22            34      Other             28   \n",
      "44            4       4             8      Other             29   \n",
      "47            4       1             5      Other             28   \n",
      "48            5      10            15      Other             44   \n",
      "50            3       0             3      Other             47   \n",
      "52           58     546           604      Other             64   \n",
      "57            3       0             3      Other             39   \n",
      "59            5       0             5      Other             20   \n",
      "60            3       3             6      Other             29   \n",
      "61            5      11            16      Other             25   \n",
      "62           49      53           102      Other             29   \n",
      "64            6       2             8      Other             45   \n",
      "67            3       0             3      Other             33   \n",
      "71            3       1             4      Other             27   \n",
      "75            4       2             6      Other             44   \n",
      "77            7       0             7    Other\\n             42   \n",
      "78            6       3             9    Other\\n             23   \n",
      "79            5       0             5    Other\\n             27   \n",
      "80            5       2             7      Other             64   \n",
      "84           12      70            82      Other             24   \n",
      "85            6       1             7      Other             40   \n",
      "87            5       0             5      Other             59   \n",
      "88            8       1             9      Other             42   \n",
      "89            5       7            12      Other             32   \n",
      "90            6      13            19      Other             22   \n",
      "92            4       1             5      Other             37   \n",
      "94           14       4            18      Other             41   \n",
      "95            8       3            11      Other             45   \n",
      "98            6       2             8      Other             52   \n",
      "99            9       4            13      Other             19   \n",
      "100           6       1             7      Other             20   \n",
      "102           6       4            10      Other             18   \n",
      "104           7       2             9      Other             28   \n",
      "108           5       7            12      Other             25   \n",
      "126           6      19            25      Other             35   \n",
      "127           4       8            12      Other             22   \n",
      "128           9       6            15      Other             55   \n",
      "129           5       0             5      Other             50   \n",
      "133          24      20            44      Other             35   \n",
      "134          10       4            14      Other             42   \n",
      "138           6      14            20      Other             59   \n",
      "140          22      19            41      Other             41   \n",
      "141           6       1             7      Other             39   \n",
      "142           8       3            11      Other             51   \n",
      "\n",
      "    prior_signs_mental_health_issues  ...  \\\n",
      "0                                yes  ...   \n",
      "5                                yes  ...   \n",
      "7                                yes  ...   \n",
      "9                                  -  ...   \n",
      "11                                 -  ...   \n",
      "26                                 -  ...   \n",
      "28                               yes  ...   \n",
      "29                                 -  ...   \n",
      "31                               TBD  ...   \n",
      "34                                 -  ...   \n",
      "37                               Yes  ...   \n",
      "44                               Yes  ...   \n",
      "47                               TBD  ...   \n",
      "48                               TBD  ...   \n",
      "50                           Unclear  ...   \n",
      "52                               TBD  ...   \n",
      "57                           Unclear  ...   \n",
      "59                               Yes  ...   \n",
      "60                               Yes  ...   \n",
      "61                           Unclear  ...   \n",
      "62                           Unclear  ...   \n",
      "64                           Unclear  ...   \n",
      "67                           Unclear  ...   \n",
      "71                               Yes  ...   \n",
      "75                           Unknown  ...   \n",
      "77                           Unclear  ...   \n",
      "78                               Yes  ...   \n",
      "79                                No  ...   \n",
      "80                                No  ...   \n",
      "84                               Yes  ...   \n",
      "85                               Yes  ...   \n",
      "87                               Yes  ...   \n",
      "88                               Yes  ...   \n",
      "89                               Yes  ...   \n",
      "90                               Yes  ...   \n",
      "92                               Yes  ...   \n",
      "94                               Yes  ...   \n",
      "95                               Yes  ...   \n",
      "98                                No  ...   \n",
      "99                               Yes  ...   \n",
      "100                          Unclear  ...   \n",
      "102                          Unclear  ...   \n",
      "104                               No  ...   \n",
      "108                              Yes  ...   \n",
      "126                              Yes  ...   \n",
      "127                               No  ...   \n",
      "128                               No  ...   \n",
      "129                              Yes  ...   \n",
      "133                               No  ...   \n",
      "134                               No  ...   \n",
      "138                              Yes  ...   \n",
      "140                              Yes  ...   \n",
      "141                              Yes  ...   \n",
      "142                              Yes  ...   \n",
      "\n",
      "                                        weapon_details             race  \\\n",
      "0                                    AR-15-style rifle                -   \n",
      "5                                                    -            Asian   \n",
      "7                                                    -            White   \n",
      "9                                                  NaN            White   \n",
      "11   AR-15 style rifle, possibly modified for rapid...            White   \n",
      "26   AR-15-style rifle; Mossberg 12-gauge shotgun; ...            Black   \n",
      "28                                                   -            White   \n",
      "29   AR-15-style rifle, with a 100-round capacity a...            White   \n",
      "31                  AK-47-style rifle, per authorities                -   \n",
      "34                                                   -            White   \n",
      "37       Glock 21, .45 caliber; high-capacity magazine                -   \n",
      "44                                               AR-15            White   \n",
      "47                                                   -            White   \n",
      "48                       Two illegally modified rifles            White   \n",
      "50                                                   -            White   \n",
      "52   AR-15-style and AK-47-style rifles and \"a larg...            White   \n",
      "57                                       .357 revolver            Black   \n",
      "59                                   Ruger .22-caliber                -   \n",
      "60   IWI Tavor SAR 5.56 caliber rifle, Springfield ...            Black   \n",
      "61   Izhmash-Saiga 5.45mm (AK-style) semiautomatic ...            Black   \n",
      "62   Sig Sauer MCX rifle, Glock 17 9mm; high-capaci...            Other   \n",
      "64                    9 mm handgun (ammo used unclear)            White   \n",
      "67    AR-15 rifle, a 9 mm pistol, and a .357 revolver            White    \n",
      "71   Details unclear, but after the shooting, polic...           Latino   \n",
      "75                          9mm semi-automatic handgun  Native American   \n",
      "77                                            Glock 17           Latino   \n",
      "78   .223-caliber semi-automatic assault rifle, abo...            White   \n",
      "79   .40 caliber semi-automatic handgun, pistol gri...            Black   \n",
      "80                                             Unknown            White   \n",
      "84   Two .40-caliber Glock semiautomatic handguns; ...            white   \n",
      "85              Two .45-caliber semiautomatic handguns            white   \n",
      "87                   .45-caliber semiautomatic handgun            Asian   \n",
      "88   .45-caliber Heckler & Koch, 9mm Springfield se...            white   \n",
      "89   AK-47 Norinco Arms variant, AK-47 Romarm Cugir...           Latino   \n",
      "90                  9mm Glock 19 semiautomatic handgun            white   \n",
      "92   9mm Glock 17 semiautomatic handgun; .38-calibe...            black   \n",
      "94   9mm Beretta, .45-caliber Springfield semiautom...            Asian   \n",
      "95   Winchester 1300 pump-action shotgun; .357 Magn...            white   \n",
      "98   .40-caliber Smith & Wesson semiautomatic handg...            black   \n",
      "99            WASR-10 Century Arms semiautomatic rifle            white   \n",
      "100                     AR-15 SWAT semiautomatic rifle            white   \n",
      "102  Mossberg Maverick 88 Field shotgun; .38-calibe...            white   \n",
      "104  .40-caliber Ruger, one other semiautomatic han...            white   \n",
      "108             9mm Beretta 92FS semiautomatic handgun            white   \n",
      "126                9mm Ruger P89 semiautomatic handgun            black   \n",
      "127           .22-caliber rifle; two 12-gauge shotguns            white   \n",
      "128  Two Intratec DC-9, .45-caliber Colt semiautoma...            white   \n",
      "129                    9mm Llama semiautomatic handgun            white   \n",
      "133  9mm Glock 17, 9mm Ruger P89 semiautomatic hand...            white   \n",
      "134  .30-caliber Universal M1 carbine rifle; .38-ca...            black   \n",
      "138  Sturm, Ruger Mini-14 semiautomatic rifle; 20-g...            white   \n",
      "140  9mm Browning P35 Hi-Power semiautomatic handgu...            white   \n",
      "141       9mm Smith & Wesson 459 semiautomatic handgun            white   \n",
      "142  Mossberg 500 Persuader pump-action shotgun wit...            white   \n",
      "\n",
      "            gender                                            sources  \\\n",
      "0                M  https://www.nytimes.com/2023/05/07/us/texas-ma...   \n",
      "5                M  https://www.latimes.com/california/story/2023-...   \n",
      "7                M  https://coloradosun.com/2022/11/20/club-q-shoo...   \n",
      "9                M  https://www.newsobserver.com/news/local/crime/...   \n",
      "11               M  https://www.cbsnews.com/chicago/news/suspect-i...   \n",
      "26   Male & Female  https://www.nytimes.com/2019/12/15/nyregion/je...   \n",
      "28               M  https://www.washingtonpost.com/politics/5-kill...   \n",
      "29               M  https://www.nytimes.com/2019/08/04/us/dayton-o...   \n",
      "31               M  https://www.cbsnews.com/live-news/garlic-festi...   \n",
      "34               M  http://www.wistv.com/2019/01/26/details-emerge...   \n",
      "37               M  http://www.latimes.com/local/lanow/la-me-ln-th...   \n",
      "44               M  https://www.washingtonpost.com/news/post-natio...   \n",
      "47               M  http://www.wpxi.com/news/top-stories/family-me...   \n",
      "48               M  https://www.nbcnews.com/news/us-news/californi...   \n",
      "50               M  https://www.nytimes.com/2017/11/01/us/thornton...   \n",
      "52               M  https://www.lvmpd.com/en-us/Documents/1_Octobe...   \n",
      "57               M  http://www.dailymail.co.uk/news/article-444372...   \n",
      "59               M  http://www.nytimes.com/2016/09/25/us/mall-shoo...   \n",
      "60               M  http://time.com/4411027/baton-rouge-shooter-ga...   \n",
      "61               M  http://www.nytimes.com/2016/07/11/us/dallas-sh...   \n",
      "62               M  http://www.motherjones.com/politics/2016/06/as...   \n",
      "64               M  http://www.nytimes.com/2016/02/22/us/kalamazoo...   \n",
      "67               M  http://www.motherjones.com/mojo/2015/11/open-c...   \n",
      "71               M  http://fox6now.com/2015/06/11/released-menasha...   \n",
      "75          Female  http://www.sacbee.com/news/local/crime/article...   \n",
      "77            Male  http://www.miamiherald.com/2013/07/27/v-print/...   \n",
      "78            Male  http://www.cbsnews.com/8301-504083_162-5758932...   \n",
      "79            Male  http://seattletimes.com/html/localnews/2020836...   \n",
      "80            Male  https://www.nyspnews.com/article_display.cfm?a...   \n",
      "84            Male  http://www.cbsnews.com/8301-201_162-57497820/j...   \n",
      "85            Male  http://usnews.nbcnews.com/_news/2012/05/30/119...   \n",
      "87            Male  http://www.gwinnettdailypost.com/news/2012/feb...   \n",
      "88            Male  http://laist.com/2011/10/13/seal_beach_shooter...   \n",
      "89            Male  http://www.huffingtonpost.com/2011/11/03/eduar...   \n",
      "90            Male  http://www.time.com/time/magazine/article/0,91...   \n",
      "92            Male  http://seattletimes.com/html/localnews/2010385...   \n",
      "94            Male  http://www.nytimes.com/2009/04/12/nyregion/12b...   \n",
      "95            Male  http://www.wral.com/news/local/story/9845639/;...   \n",
      "98            Male  http://www.stltoday.com/news/local/crime-and-c...   \n",
      "99            Male  http://www.guardian.co.uk/world/2007/dec/06/us...   \n",
      "100           Male  http://www.rivernewsonline.com/main.asp?Sectio...   \n",
      "102           Male  http://www.deseretnews.com/article/660205647/E...   \n",
      "104           Male  http://seattletimes.com/html/localnews/2002892...   \n",
      "108           Male  http://www.cbsnews.com/2100-201_162-659983.htm...   \n",
      "126           Male  http://www.nytimes.com/1993/12/12/nyregion/tor...   \n",
      "127           Male  http://articles.latimes.com/1993-08-08/news/mn...   \n",
      "128           Male  http://articles.latimes.com/1993-07-03/news/mn...   \n",
      "129           Male  http://www.nytimes.com/1992/10/17/nyregion/sho...   \n",
      "133           Male  http://www.nytimes.com/1991/10/18/us/portrait-...   \n",
      "134           Male  http://www.nytimes.com/1990/06/19/us/florida-g...   \n",
      "138           Male  http://articles.latimes.com/1987-04-25/news/mn...   \n",
      "140           Male  http://www.utsandiego.com/san-ysidro-massacre/...   \n",
      "141           Male  http://books.google.com/books?id=Hr3OBwP-lbUC&...   \n",
      "142           Male  http://www.nytimes.com/1982/08/21/us/gunman-in...   \n",
      "\n",
      "                                 mental_health_sources  \\\n",
      "0                                                    -   \n",
      "5    https://www.latimes.com/california/story/2023-...   \n",
      "7    https://www.nytimes.com/2022/11/20/us/colorado...   \n",
      "9                                                    -   \n",
      "11                                                   -   \n",
      "26                                                   -   \n",
      "28   https://www.nytimes.com/2019/09/02/us/texas-gu...   \n",
      "29                                                   -   \n",
      "31                                                   -   \n",
      "34                                                   -   \n",
      "37   http://www.latimes.com/local/lanow/la-me-ln-th...   \n",
      "44   https://www.buzzfeed.com/briannasacks/this-is-...   \n",
      "47                                                   -   \n",
      "48                                                   -   \n",
      "50                                                   -   \n",
      "52   https://www.nytimes.com/2017/10/13/us/stephen-...   \n",
      "57                                                   -   \n",
      "59   http://www.nbcnews.com/news/us-news/arcan-ceti...   \n",
      "60                                                   -   \n",
      "61                                                   -   \n",
      "62                                                   -   \n",
      "64                                                   -   \n",
      "67                                                   -   \n",
      "71                                                   -   \n",
      "75                                                   -   \n",
      "77   http://www.miamiherald.com/2013/08/03/v-print/...   \n",
      "78   http://www.cbsnews.com/8301-504083_162-5758932...   \n",
      "79                                                   -   \n",
      "80   http://poststar.com/news/local/state-and-regio...   \n",
      "84   http://www.cbsnews.com/8301-201_162-57497820/j...   \n",
      "85   http://usnews.nbcnews.com/_news/2012/05/30/119...   \n",
      "87   http://www.gwinnettdailypost.com/news/2012/feb...   \n",
      "88   http://laist.com/2011/10/13/seal_beach_shooter...   \n",
      "89   http://www.huffingtonpost.com/2011/11/03/eduar...   \n",
      "90   http://www.time.com/time/magazine/article/0,91...   \n",
      "92   http://seattletimes.com/html/localnews/2010385...   \n",
      "94   http://www.nytimes.com/2009/04/12/nyregion/12b...   \n",
      "95       http://www.wral.com/news/local/story/9845639/   \n",
      "98   http://www.stltoday.com/news/local/crime-and-c...   \n",
      "99   http://www.guardian.co.uk/world/2007/dec/06/us...   \n",
      "100  http://www.rivernewsonline.com/main.asp?Sectio...   \n",
      "102  http://www.deseretnews.com/article/660205647/E...   \n",
      "104  http://seattletimes.com/html/localnews/2002898...   \n",
      "108    http://www.cbsnews.com/2100-201_162-659983.html   \n",
      "126  http://www.nytimes.com/1993/12/12/nyregion/tor...   \n",
      "127  http://news.google.com/newspapers?id=0AhPAAAAI...   \n",
      "128  http://articles.latimes.com/1993-07-03/news/mn...   \n",
      "129  http://www.nytimes.com/1992/10/24/nyregion/wat...   \n",
      "133  http://www.nytimes.com/1991/10/20/weekinreview...   \n",
      "134  http://www.nytimes.com/1990/06/20/us/hazy-reco...   \n",
      "138  (Supreme Court of Florida Document) http://www...   \n",
      "140  http://www.nctimes.com/news/local/article_2ba4...   \n",
      "141  http://books.google.com/books?id=Hr3OBwP-lbUC&...   \n",
      "142  http://news.google.com/newspapers?id=uuYLAAAAI...   \n",
      "\n",
      "                                sources_additional_age    latitude  \\\n",
      "0                                                    -           -   \n",
      "5                                                    -           -   \n",
      "7                                                    -           -   \n",
      "9                                                    -           -   \n",
      "11                                                   -           -   \n",
      "26                                                   -   40.707363   \n",
      "28                                                   -   31.925974   \n",
      "29                                                   -   39.757312   \n",
      "31                                                   -   36.997191   \n",
      "34                                                   -   40.785142   \n",
      "37                                                   -   34.176946   \n",
      "44   https://www.washingtonpost.com/news/post-natio...   36.052521   \n",
      "47   http://www.wpxi.com/news/top-stories/family-me...   40.052151   \n",
      "48   https://www.nbcnews.com/news/us-news/californi...   40.018759   \n",
      "50   https://www.nytimes.com/2017/11/01/us/thornton...   39.876374   \n",
      "52   https://www.lvmpd.com/en-us/Documents/1_Octobe...   36.095739   \n",
      "57   http://www.dailymail.co.uk/news/article-444372...   36.746378   \n",
      "59   http://www.nytimes.com/2016/09/25/us/mall-shoo...   48.461367   \n",
      "60   http://time.com/4411027/baton-rouge-shooter-ga...   30.433601   \n",
      "61   http://www.nytimes.com/2016/07/11/us/dallas-sh...  32.7801052   \n",
      "62   http://www.motherjones.com/politics/2016/06/as...   28.519718   \n",
      "64   http://www.nytimes.com/2016/02/22/us/kalamazoo...   42.236689   \n",
      "67   http://www.motherjones.com/mojo/2015/11/open-c...    38.83755   \n",
      "71   http://fox6now.com/2015/06/11/released-menasha...   44.204124   \n",
      "75   http://www.sacbee.com/news/local/crime/article...   41.487104   \n",
      "77   http://www.miamiherald.com/2013/07/27/v-print/...   25.864338   \n",
      "78   http://www.cbsnews.com/8301-504083_162-5758932...   34.008617   \n",
      "79   http://seattletimes.com/html/localnews/2020836...  47.3129607   \n",
      "80   https://www.nyspnews.com/article_display.cfm?a...   43.045601   \n",
      "84   http://www.cbsnews.com/8301-201_162-57497820/j...   39.706038   \n",
      "85   http://usnews.nbcnews.com/_news/2012/05/30/119...  47.6038321   \n",
      "87   http://www.gwinnettdailypost.com/news/2012/feb...  33.9412127   \n",
      "88   http://laist.com/2011/10/13/seal_beach_shooter...   33.741176   \n",
      "89   http://www.huffingtonpost.com/2011/11/03/eduar...  39.1637984   \n",
      "90   http://www.time.com/time/magazine/article/0,91...   32.335941   \n",
      "92   http://seattletimes.com/html/localnews/2010385...    47.15277   \n",
      "94   http://www.nytimes.com/2009/04/12/nyregion/12b...   42.099802   \n",
      "95   http://www.wral.com/news/local/story/9845639/;...   35.333434   \n",
      "98   http://www.stltoday.com/news/local/crime-and-c...   38.580093   \n",
      "99   http://www.guardian.co.uk/world/2007/dec/06/us...   41.265719   \n",
      "100  http://www.rivernewsonline.com/main.asp?Sectio...  45.5719072   \n",
      "102  http://www.deseretnews.com/article/660205647/E...  40.7606467   \n",
      "104  http://seattletimes.com/html/localnews/2002892...     47.6229   \n",
      "108  http://www.cbsnews.com/2100-201_162-659983.htm...  39.9622601   \n",
      "126  http://www.nytimes.com/1993/12/12/nyregion/tor...  40.7267682   \n",
      "127  http://articles.latimes.com/1993-08-08/news/mn...  35.0529931   \n",
      "128  http://articles.latimes.com/1993-07-03/news/mn...   37.792968   \n",
      "129  http://www.nytimes.com/1992/10/17/nyregion/sho...  42.3810555   \n",
      "133  http://www.nytimes.com/1991/10/18/us/portrait-...  31.1171194   \n",
      "134  http://www.nytimes.com/1990/06/19/us/florida-g...  30.3321838   \n",
      "138  http://articles.latimes.com/1987-04-25/news/mn...  28.0331886   \n",
      "140  http://www.utsandiego.com/san-ysidro-massacre/...  32.5520013   \n",
      "141  http://books.google.com/books?id=Hr3OBwP-lbUC&...   32.925166   \n",
      "142  http://www.nytimes.com/1982/08/21/us/gunman-in...   25.796491   \n",
      "\n",
      "        longitude   type  year  \n",
      "0               -   Mass  2023  \n",
      "5               -   Mass  2023  \n",
      "7               -   Mass  2022  \n",
      "9               -  Spree  2022  \n",
      "11              -   Mass  2022  \n",
      "26     -74.083609  Spree  2019  \n",
      "28      -102.2796  Spree  2019  \n",
      "29     -84.184947   Mass  2019  \n",
      "31    -121.584819   Mass  2019  \n",
      "34     -77.839411  Spree  2019  \n",
      "37    -118.874793   Mass  2018  \n",
      "44     -86.616944   Mass  2018  \n",
      "47     -79.389166   Mass  2018  \n",
      "48    -122.393089  Spree  2017  \n",
      "50    -104.986132   Mass  2017  \n",
      "52    -115.171544   Mass  2017  \n",
      "57    -119.800319   Mass  2017  \n",
      "59    -122.337918   Mass  2016  \n",
      "60     -91.081403  Spree  2016  \n",
      "61    -96.8000082   Mass  2016  \n",
      "62     -81.376777   Mass  2016  \n",
      "64     -85.674795   Mass  2016  \n",
      "67    -104.814251   Mass  2015  \n",
      "71     -88.467541   Mass  2015  \n",
      "75    -120.542237  Spree  2014  \n",
      "77     -80.311775   Mass  2013  \n",
      "78    -118.494754   Mass  2013  \n",
      "79   -122.3393665   Mass  2013  \n",
      "80     -74.984891   Mass  2013  \n",
      "84    -104.820594  Spree  2012  \n",
      "85   -122.3300624   Mass  2012  \n",
      "87    -84.2135309   Mass  2012  \n",
      "88   -118.1046356   Mass  2011  \n",
      "89   -119.7674034   Mass  2011  \n",
      "90    -110.975132   Mass  2011  \n",
      "92    -122.467308   Mass  2009  \n",
      "94     -75.917723   Mass  2009  \n",
      "95     -79.414592   Mass  2009  \n",
      "98      -90.40691   Mass  2008  \n",
      "99     -96.067495  Spree  2007  \n",
      "100   -88.9028922   Mass  2007  \n",
      "102    -111.89109   Mass  2007  \n",
      "104     -122.3165   Mass  2006  \n",
      "108   -83.0007065   Mass  2004  \n",
      "126   -73.6342955  Spree  1993  \n",
      "127   -78.8787058   Mass  1993  \n",
      "128   -122.397973   Mass  1993  \n",
      "129   -76.8705777   Mass  1992  \n",
      "133   -97.7277959   Mass  1991  \n",
      "134    -81.655651   Mass  1990  \n",
      "138   -80.6429695  Spree  1987  \n",
      "140  -117.0430813   Mass  1984  \n",
      "141    -96.838676   Mass  1984  \n",
      "142    -80.226683   Mass  1982  \n",
      "\n",
      "[54 rows x 24 columns]\n"
     ]
    }
   ],
   "source": [
    "result = df[df['location.1'].str.contains('Other')]\n",
    "\n",
    "# Print the result\n",
    "print(result)"
   ]
  },
  {
   "cell_type": "code",
   "execution_count": 18,
   "id": "0b3ab3d7",
   "metadata": {},
   "outputs": [],
   "source": [
    "df['location.1'] = df['location.1'].str.replace('Other\\n', 'Other')\n"
   ]
  },
  {
   "cell_type": "code",
   "execution_count": 19,
   "id": "d529f888",
   "metadata": {},
   "outputs": [
    {
     "name": "stdout",
     "output_type": "stream",
     "text": [
      "Other          54\n",
      "Workplace      45\n",
      "School         22\n",
      "Religious       7\n",
      "workplace       6\n",
      "Military        6\n",
      "religious       1\n",
      "Airport         1\n",
      "\\nWorkplace     1\n",
      "Name: location.1, dtype: int64\n"
     ]
    }
   ],
   "source": [
    "freq_dist = df['location.1'].value_counts()\n",
    "print(freq_dist)"
   ]
  },
  {
   "cell_type": "code",
   "execution_count": 20,
   "id": "8fdb6d7d",
   "metadata": {},
   "outputs": [
    {
     "data": {
      "text/plain": [
       "<AxesSubplot:>"
      ]
     },
     "execution_count": 20,
     "metadata": {},
     "output_type": "execute_result"
    },
    {
     "data": {
      "image/png": "[encoded data removed]",
      "text/plain": [
       "<Figure size 640x480 with 1 Axes>"
      ]
     },
     "metadata": {},
     "output_type": "display_data"
    }
   ],
   "source": [
    "freq_dist.plot(kind='bar')"
   ]
  },
  {
   "cell_type": "code",
   "execution_count": 21,
   "id": "709120aa",
   "metadata": {},
   "outputs": [],
   "source": [
    "df['location.1'] = df['location.1'].str.replace('\\nWorkplace', 'Workplace')"
   ]
  },
  {
   "cell_type": "code",
   "execution_count": 22,
   "id": "bef73fe2",
   "metadata": {},
   "outputs": [
    {
     "name": "stdout",
     "output_type": "stream",
     "text": [
      "Other        54\n",
      "Workplace    46\n",
      "School       22\n",
      "Religious     7\n",
      "workplace     6\n",
      "Military      6\n",
      "religious     1\n",
      "Airport       1\n",
      "Name: location.1, dtype: int64\n"
     ]
    }
   ],
   "source": [
    "freq_dist = df['location.1'].value_counts()\n",
    "print(freq_dist)"
   ]
  },
  {
   "cell_type": "code",
   "execution_count": 23,
   "id": "7a60a470",
   "metadata": {},
   "outputs": [],
   "source": [
    "df['location.1'] = df['location.1'].str.replace('workplace', 'Workplace')"
   ]
  },
  {
   "cell_type": "code",
   "execution_count": 24,
   "id": "ede9e915",
   "metadata": {},
   "outputs": [
    {
     "name": "stdout",
     "output_type": "stream",
     "text": [
      "Other        54\n",
      "Workplace    52\n",
      "School       22\n",
      "Religious     7\n",
      "Military      6\n",
      "religious     1\n",
      "Airport       1\n",
      "Name: location.1, dtype: int64\n"
     ]
    }
   ],
   "source": [
    "freq_dist = df['location.1'].value_counts()\n",
    "print(freq_dist)"
   ]
  },
  {
   "cell_type": "code",
   "execution_count": 25,
   "id": "239aa670",
   "metadata": {},
   "outputs": [],
   "source": [
    "df['location.1'] = df['location.1'].str.replace('religious', 'Religious')"
   ]
  },
  {
   "cell_type": "code",
   "execution_count": 26,
   "id": "c6367be5",
   "metadata": {},
   "outputs": [
    {
     "name": "stdout",
     "output_type": "stream",
     "text": [
      "Other        54\n",
      "Workplace    52\n",
      "School       22\n",
      "Religious     8\n",
      "Military      6\n",
      "Airport       1\n",
      "Name: location.1, dtype: int64\n"
     ]
    }
   ],
   "source": [
    "freq_dist = df['location.1'].value_counts()\n",
    "print(freq_dist)"
   ]
  },
  {
   "cell_type": "code",
   "execution_count": 27,
   "id": "5af02a1f",
   "metadata": {},
   "outputs": [
    {
     "data": {
      "text/plain": [
       "<AxesSubplot:>"
      ]
     },
     "execution_count": 27,
     "metadata": {},
     "output_type": "execute_result"
    },
    {
     "data": {
      "image/png": "[encoded data removed]",
      "text/plain": [
       "<Figure size 640x480 with 1 Axes>"
      ]
     },
     "metadata": {},
     "output_type": "display_data"
    }
   ],
   "source": [
    "freq_dist.plot(kind='bar')"
   ]
  },
  {
   "cell_type": "code",
   "execution_count": 37,
   "id": "98e55b60",
   "metadata": {},
   "outputs": [
    {
     "name": "stdout",
     "output_type": "stream",
     "text": [
      "White              75\n",
      "Black              16\n",
      "-                  13\n",
      "Latino             11\n",
      "Asian              10\n",
      "black               9\n",
      "Other               5\n",
      "Native American     3\n",
      "unclear             1\n",
      "Name: race, dtype: int64\n"
     ]
    }
   ],
   "source": [
    "freq_dist = df['race'].value_counts()\n",
    "print(freq_dist)"
   ]
  },
  {
   "cell_type": "code",
   "execution_count": 36,
   "id": "09767e0a",
   "metadata": {},
   "outputs": [],
   "source": [
    "df['race'] = df['race'].str.replace('White ', 'White')"
   ]
  },
  {
   "cell_type": "code",
   "execution_count": 35,
   "id": "137fe6b9",
   "metadata": {},
   "outputs": [
    {
     "name": "stdout",
     "output_type": "stream",
     "text": [
      "                                      case                    location  \\\n",
      "1                 Louisville bank shooting        Louisville, Kentucky   \n",
      "2      Nashville Christian school shooting        Nashville, Tennessee   \n",
      "7                      LGBTQ club shooting  Colorado Springs, Colorado   \n",
      "9                   Raleigh spree shooting   Hedingham, North Carolina   \n",
      "10            Greenwood Park Mall shooting          Greenwood, Indiana   \n",
      "..                                     ...                         ...   \n",
      "138        Shopping centers spree killings           Palm Bay, Florida   \n",
      "139  United States Postal Service shooting            Edmond, Oklahoma   \n",
      "140         San Ysidro McDonald's massacre      San Ysidro, California   \n",
      "141              Dallas nightclub shooting               Dallas, Texas   \n",
      "142                  Welding shop shooting              Miami, Florida   \n",
      "\n",
      "          date                                            summary  fatalities  \\\n",
      "1      4/10/23  Connor Sturgeon, 25, opened fire inside Old Na...           5   \n",
      "2      3/27/23  Audrey Hale, 28, who was a former student at t...           6   \n",
      "7     11/19/22  Anderson L. Aldrich, 22, wore body armor and o...           5   \n",
      "9     10/13/22  Austin Thompson, 15, went on a rampage in the ...           5   \n",
      "10     7/17/22  Jonathan Sapirman, 20, opened fire in a mall f...           3   \n",
      "..         ...                                                ...         ...   \n",
      "138  4/23/1987  Retired librarian William Cruse, 59, was paran...           6   \n",
      "139  8/20/1986  Postal worker Patrick Sherrill, 44, opened fir...          15   \n",
      "140  7/18/1984  James Oliver Huberty, 41, opened fire in a McD...          22   \n",
      "141  6/29/1984  Abdelkrim Belachheb, 39, opened fire at an ups...           6   \n",
      "142  8/20/1982  Junior high school teacher Carl Robert Brown, ...           8   \n",
      "\n",
      "    injured total_victims location.1 age_of_shooter  \\\n",
      "1         8            13  Workplace             25   \n",
      "2         6            12     School             28   \n",
      "7        25            30      Other             22   \n",
      "9         2             7      Other             15   \n",
      "10        2             5  Workplace             20   \n",
      "..      ...           ...        ...            ...   \n",
      "138      14            20      Other             59   \n",
      "139       6            21  Workplace             44   \n",
      "140      19            41      Other             41   \n",
      "141       1             7      Other             39   \n",
      "142       3            11      Other             51   \n",
      "\n",
      "    prior_signs_mental_health_issues  ...  \\\n",
      "1                                yes  ...   \n",
      "2                                  -  ...   \n",
      "7                                yes  ...   \n",
      "9                                  -  ...   \n",
      "10                                 -  ...   \n",
      "..                               ...  ...   \n",
      "138                              Yes  ...   \n",
      "139                         Unclear   ...   \n",
      "140                              Yes  ...   \n",
      "141                              Yes  ...   \n",
      "142                              Yes  ...   \n",
      "\n",
      "                                        weapon_details   race  \\\n",
      "1                                          AR-15 rifle  White   \n",
      "2                                                    -  White   \n",
      "7                                                    -  White   \n",
      "9                                                  NaN  White   \n",
      "10                                Sig Sauer M400 rifle  White   \n",
      "..                                                 ...    ...   \n",
      "138  Sturm, Ruger Mini-14 semiautomatic rifle; 20-g...  White   \n",
      "139  .22-caliber, two .45-caliber Colt Model 1911-A...  White   \n",
      "140  9mm Browning P35 Hi-Power semiautomatic handgu...  White   \n",
      "141       9mm Smith & Wesson 459 semiautomatic handgun  White   \n",
      "142  Mossberg 500 Persuader pump-action shotgun wit...  White   \n",
      "\n",
      "                                                gender  \\\n",
      "1                                                    M   \n",
      "2    F (\"identifies as transgender\" and \"Audrey Hal...   \n",
      "7                                                    M   \n",
      "9                                                    M   \n",
      "10                                                   M   \n",
      "..                                                 ...   \n",
      "138                                               Male   \n",
      "139                                               Male   \n",
      "140                                               Male   \n",
      "141                                               Male   \n",
      "142                                               Male   \n",
      "\n",
      "                                               sources  \\\n",
      "1    https://apnews.com/article/downtown-louisville...   \n",
      "2    https://www.tennessean.com/story/news/crime/20...   \n",
      "7    https://coloradosun.com/2022/11/20/club-q-shoo...   \n",
      "9    https://www.newsobserver.com/news/local/crime/...   \n",
      "10   https://apnews.com/article/indiana-mall-shooti...   \n",
      "..                                                 ...   \n",
      "138  http://articles.latimes.com/1987-04-25/news/mn...   \n",
      "139  http://news.google.com/newspapers?id=dm8aAAAAI...   \n",
      "140  http://www.utsandiego.com/san-ysidro-massacre/...   \n",
      "141  http://books.google.com/books?id=Hr3OBwP-lbUC&...   \n",
      "142  http://www.nytimes.com/1982/08/21/us/gunman-in...   \n",
      "\n",
      "                                 mental_health_sources  \\\n",
      "1                                                    -   \n",
      "2                                                    -   \n",
      "7    https://www.nytimes.com/2022/11/20/us/colorado...   \n",
      "9                                                    -   \n",
      "10                                                   -   \n",
      "..                                                 ...   \n",
      "138  (Supreme Court of Florida Document) http://www...   \n",
      "139  http://newsok.com/sherrill-feared-mental-illne...   \n",
      "140  http://www.nctimes.com/news/local/article_2ba4...   \n",
      "141  http://books.google.com/books?id=Hr3OBwP-lbUC&...   \n",
      "142  http://news.google.com/newspapers?id=uuYLAAAAI...   \n",
      "\n",
      "                                sources_additional_age    latitude  \\\n",
      "1                                                    -           -   \n",
      "2                                                    -           -   \n",
      "7                                                    -           -   \n",
      "9                                                    -           -   \n",
      "10                                                   -           -   \n",
      "..                                                 ...         ...   \n",
      "138  http://articles.latimes.com/1987-04-25/news/mn...  28.0331886   \n",
      "139  http://news.google.com/newspapers?id=dm8aAAAAI...  35.6672015   \n",
      "140  http://www.utsandiego.com/san-ysidro-massacre/...  32.5520013   \n",
      "141  http://books.google.com/books?id=Hr3OBwP-lbUC&...   32.925166   \n",
      "142  http://www.nytimes.com/1982/08/21/us/gunman-in...   25.796491   \n",
      "\n",
      "        longitude   type  year  \n",
      "1               -   Mass  2023  \n",
      "2               -   Mass  2023  \n",
      "7               -   Mass  2022  \n",
      "9               -  Spree  2022  \n",
      "10              -   Mass  2022  \n",
      "..            ...    ...   ...  \n",
      "138   -80.6429695  Spree  1987  \n",
      "139  -97.42937037   Mass  1986  \n",
      "140  -117.0430813   Mass  1984  \n",
      "141    -96.838676   Mass  1984  \n",
      "142    -80.226683   Mass  1982  \n",
      "\n",
      "[75 rows x 24 columns]\n"
     ]
    }
   ],
   "source": [
    "result = df[df['race'].str.contains('White')]\n",
    "print(result)"
   ]
  },
  {
   "cell_type": "code",
   "execution_count": 38,
   "id": "375e2490",
   "metadata": {},
   "outputs": [],
   "source": [
    "df['race'] = df['race'].str.replace('-', 'unclear')"
   ]
  },
  {
   "cell_type": "code",
   "execution_count": 39,
   "id": "b41966f3",
   "metadata": {},
   "outputs": [],
   "source": [
    "df['race'] = df['race'].str.replace('unclear', 'Unclear')"
   ]
  },
  {
   "cell_type": "code",
   "execution_count": 40,
   "id": "7074380d",
   "metadata": {},
   "outputs": [],
   "source": [
    "df['race'] = df['race'].str.replace('black', 'Black')"
   ]
  },
  {
   "cell_type": "code",
   "execution_count": 41,
   "id": "afb721b7",
   "metadata": {},
   "outputs": [],
   "source": [
    "freq_dist = df['race'].value_counts()"
   ]
  },
  {
   "cell_type": "code",
   "execution_count": 42,
   "id": "778cc533",
   "metadata": {},
   "outputs": [
    {
     "name": "stdout",
     "output_type": "stream",
     "text": [
      "White              75\n",
      "Black              25\n",
      "Unclear            14\n",
      "Latino             11\n",
      "Asian              10\n",
      "Other               5\n",
      "Native American     3\n",
      "Name: race, dtype: int64\n"
     ]
    }
   ],
   "source": [
    "print(freq_dist)"
   ]
  },
  {
   "cell_type": "code",
   "execution_count": 43,
   "id": "f7643568",
   "metadata": {},
   "outputs": [
    {
     "data": {
      "text/plain": [
       "<AxesSubplot:>"
      ]
     },
     "execution_count": 43,
     "metadata": {},
     "output_type": "execute_result"
    },
    {
     "data": {
      "image/png": "[encoded data removed]",
      "text/plain": [
       "<Figure size 640x480 with 1 Axes>"
      ]
     },
     "metadata": {},
     "output_type": "display_data"
    }
   ],
   "source": [
    "freq_dist.plot(kind='bar')"
   ]
  },
  {
   "cell_type": "code",
   "execution_count": 44,
   "id": "49c6234b",
   "metadata": {},
   "outputs": [
    {
     "data": {
      "text/html": [
       "<div>\n",
       "<style scoped>\n",
       "    .dataframe tbody tr th:only-of-type {\n",
       "        vertical-align: middle;\n",
       "    }\n",
       "\n",
       "    .dataframe tbody tr th {\n",
       "        vertical-align: top;\n",
       "    }\n",
       "\n",
       "    .dataframe thead th {\n",
       "        text-align: right;\n",
       "    }\n",
       "</style>\n",
       "<table border=\"1\" class=\"dataframe\">\n",
       "  <thead>\n",
       "    <tr style=\"text-align: right;\">\n",
       "      <th></th>\n",
       "      <th>case</th>\n",
       "      <th>location</th>\n",
       "      <th>date</th>\n",
       "      <th>summary</th>\n",
       "      <th>fatalities</th>\n",
       "      <th>injured</th>\n",
       "      <th>total_victims</th>\n",
       "      <th>location.1</th>\n",
       "      <th>age_of_shooter</th>\n",
       "      <th>prior_signs_mental_health_issues</th>\n",
       "      <th>...</th>\n",
       "      <th>weapon_details</th>\n",
       "      <th>race</th>\n",
       "      <th>gender</th>\n",
       "      <th>sources</th>\n",
       "      <th>mental_health_sources</th>\n",
       "      <th>sources_additional_age</th>\n",
       "      <th>latitude</th>\n",
       "      <th>longitude</th>\n",
       "      <th>type</th>\n",
       "      <th>year</th>\n",
       "    </tr>\n",
       "  </thead>\n",
       "  <tbody>\n",
       "    <tr>\n",
       "      <th>0</th>\n",
       "      <td>Texas outlet mall shooting</td>\n",
       "      <td>Allen, Texas</td>\n",
       "      <td>5/6/23</td>\n",
       "      <td>Mauricio Garcia, 33, wore tactical gear and us...</td>\n",
       "      <td>8</td>\n",
       "      <td>7</td>\n",
       "      <td>15</td>\n",
       "      <td>Other</td>\n",
       "      <td>33</td>\n",
       "      <td>yes</td>\n",
       "      <td>...</td>\n",
       "      <td>AR-15-style rifle</td>\n",
       "      <td>Unclear</td>\n",
       "      <td>M</td>\n",
       "      <td>https://www.nytimes.com/2023/05/07/us/texas-ma...</td>\n",
       "      <td>-</td>\n",
       "      <td>-</td>\n",
       "      <td>-</td>\n",
       "      <td>-</td>\n",
       "      <td>Mass</td>\n",
       "      <td>2023</td>\n",
       "    </tr>\n",
       "    <tr>\n",
       "      <th>1</th>\n",
       "      <td>Louisville bank shooting</td>\n",
       "      <td>Louisville, Kentucky</td>\n",
       "      <td>4/10/23</td>\n",
       "      <td>Connor Sturgeon, 25, opened fire inside Old Na...</td>\n",
       "      <td>5</td>\n",
       "      <td>8</td>\n",
       "      <td>13</td>\n",
       "      <td>Workplace</td>\n",
       "      <td>25</td>\n",
       "      <td>yes</td>\n",
       "      <td>...</td>\n",
       "      <td>AR-15 rifle</td>\n",
       "      <td>White</td>\n",
       "      <td>M</td>\n",
       "      <td>https://apnews.com/article/downtown-louisville...</td>\n",
       "      <td>-</td>\n",
       "      <td>-</td>\n",
       "      <td>-</td>\n",
       "      <td>-</td>\n",
       "      <td>Mass</td>\n",
       "      <td>2023</td>\n",
       "    </tr>\n",
       "  </tbody>\n",
       "</table>\n",
       "<p>2 rows × 24 columns</p>\n",
       "</div>"
      ],
      "text/plain": [
       "                         case              location     date  \\\n",
       "0  Texas outlet mall shooting          Allen, Texas   5/6/23   \n",
       "1    Louisville bank shooting  Louisville, Kentucky  4/10/23   \n",
       "\n",
       "                                             summary  fatalities injured  \\\n",
       "0  Mauricio Garcia, 33, wore tactical gear and us...           8       7   \n",
       "1  Connor Sturgeon, 25, opened fire inside Old Na...           5       8   \n",
       "\n",
       "  total_victims location.1 age_of_shooter prior_signs_mental_health_issues  \\\n",
       "0            15      Other             33                              yes   \n",
       "1            13  Workplace             25                              yes   \n",
       "\n",
       "   ...     weapon_details     race gender  \\\n",
       "0  ...  AR-15-style rifle  Unclear      M   \n",
       "1  ...        AR-15 rifle    White      M   \n",
       "\n",
       "                                             sources mental_health_sources  \\\n",
       "0  https://www.nytimes.com/2023/05/07/us/texas-ma...                     -   \n",
       "1  https://apnews.com/article/downtown-louisville...                     -   \n",
       "\n",
       "  sources_additional_age latitude longitude  type  year  \n",
       "0                      -        -         -  Mass  2023  \n",
       "1                      -        -         -  Mass  2023  \n",
       "\n",
       "[2 rows x 24 columns]"
      ]
     },
     "execution_count": 44,
     "metadata": {},
     "output_type": "execute_result"
    }
   ],
   "source": [
    "df.head(2)"
   ]
  },
  {
   "cell_type": "code",
   "execution_count": 47,
   "id": "35b764f9",
   "metadata": {},
   "outputs": [
    {
     "name": "stdout",
     "output_type": "stream",
     "text": [
      "Max age: 72\n",
      "Min age: -\n"
     ]
    }
   ],
   "source": [
    "# Find the maximum and minimum values in the 'age' column\n",
    "max_age = df['age_of_shooter'].max()\n",
    "min_age = df['age_of_shooter'].min()\n",
    "\n",
    "# Print the results\n",
    "print('Max age:', max_age)\n",
    "print('Min age:', min_age)"
   ]
  },
  {
   "cell_type": "code",
   "execution_count": 48,
   "id": "56dbe61a",
   "metadata": {},
   "outputs": [],
   "source": [
    "freq_dist = df['age_of_shooter'].value_counts()"
   ]
  },
  {
   "cell_type": "code",
   "execution_count": 49,
   "id": "1aba51bd",
   "metadata": {},
   "outputs": [
    {
     "name": "stdout",
     "output_type": "stream",
     "text": [
      "21    8\n",
      "44    7\n",
      "28    7\n",
      "20    6\n",
      "22    5\n",
      "26    5\n",
      "45    5\n",
      "19    5\n",
      "41    4\n",
      "29    4\n",
      "15    4\n",
      "36    4\n",
      "43    4\n",
      "39    4\n",
      "25    4\n",
      "40    4\n",
      "24    4\n",
      "42    4\n",
      "38    3\n",
      "32    3\n",
      "27    3\n",
      "34    3\n",
      "47    3\n",
      "18    3\n",
      "23    3\n",
      "31    3\n",
      "35    3\n",
      "59    2\n",
      "64    2\n",
      "37    2\n",
      "33    2\n",
      "17    2\n",
      "51    2\n",
      "57    2\n",
      "-     2\n",
      "54    1\n",
      "46    1\n",
      "70    1\n",
      "72    1\n",
      "52    1\n",
      "16    1\n",
      "48    1\n",
      "66    1\n",
      "11    1\n",
      "67    1\n",
      "55    1\n",
      "50    1\n",
      "Name: age_of_shooter, dtype: int64\n"
     ]
    }
   ],
   "source": [
    "print(freq_dist)"
   ]
  },
  {
   "cell_type": "code",
   "execution_count": 94,
   "id": "2f7f60e1",
   "metadata": {},
   "outputs": [
    {
     "data": {
      "image/png": "[encoded data removed]",
      "text/plain": [
       "<Figure size 640x480 with 1 Axes>"
      ]
     },
     "metadata": {},
     "output_type": "display_data"
    }
   ],
   "source": [
    "# Create a histogram for the 'age' column\n",
    "df['age_of_shooter'].hist()\n",
    "plt.xticks(rotation=90)\n",
    "# Show the plot\n",
    "plt.show()"
   ]
  },
  {
   "cell_type": "code",
   "execution_count": 77,
   "id": "2317b581",
   "metadata": {},
   "outputs": [],
   "source": [
    "filtered_df = df.query( \"age_of_shooter != '-'\" )"
   ]
  },
  {
   "cell_type": "code",
   "execution_count": 79,
   "id": "b6bb2a20",
   "metadata": {},
   "outputs": [
    {
     "name": "stdout",
     "output_type": "stream",
     "text": [
      "case                                  location                   date       summary                                                                                                                                                                                                                                                                                                      fatalities  injured  total_victims  location.1  age_of_shooter  prior_signs_mental_health_issues  mental_health_details                                                                                                                                                                                                                                                                                                                                                             weapons_obtained_legally  where_obtained                                                                                             weapon_type                                 weapon_details                                                                                  race             gender  sources                                                                                                                                                                                                                                                                                                                                                                                                                                                                                                                                                                                                                                                   mental_health_sources                                                                                                                                                                                                                                                              sources_additional_age                                                                                                                                                                                                                                                                                                                                                                                                                                                                                                                                                                                                                                    latitude   longitude    type  year\n",
      "101 California Street shootings       San Francisco, California  7/1/1993   Failed businessman Gian Luigi Ferri, 55, opened fire throughout an office building before he committed suicide inside as police pursued him.                                                                                                                                                                 9           6        15             Other       55              No                                He was down on his luck because of failed business decisions. One acquaintance said, \"He was the least likely guy you can imagine doing something like that.\"  His ex-wife said he \"hated violence.\"                                                                                                                                                                              No                        Super Pawn and Pacific Tactical Weapons, both in Las Vegas, Nev.                                           Three semiautomatic handguns (two assault)  Two Intratec DC-9, .45-caliber Colt semiautomatic handguns                                      White            Male    http://articles.latimes.com/1993-07-03/news/mn-10731_1_mortgage-business/2; http://www.motherjones.com/print/16316; http://www.vpc.org/studies/wgun930701.htm                                                                                                                                                                                                                                                                                                                                                                                                                                                                                             http://articles.latimes.com/1993-07-03/news/mn-10731_1_mortgage-business                                                                                                                                                                                                           http://articles.latimes.com/1993-07-03/news/mn-10731_1_mortgage-business/2; http://www.motherjones.com/print/16316; http://www.vpc.org/studies/wgun930701.htm                                                                                                                                                                                                                                                                                                                                                                                                                                                                                             37.792968  -122.397973  Mass  1993    1\n",
      "San Francisco UPS shooting            San Francisco, California  6/14/17    Jimmy Lam, 38, fatally shot three coworkers and wounded two others inside a UPS facility in San Francisco. Lam killed himself as law enforcement officers responded to the scene.                                                                                                                            3           2        5              Workplace   38              Yes                               Lam had a history of domestic, work conflict                                                                                                                                                                                                                                                                                                                                      No                        Unclear; the firearm was stolen in Utah. A second handgun Lam had (also stolen) was unused in the attack.  two handguns                                MAC-10-style “assault pistol”; 30-round magazine. An additional box of ammunition.              Asian            M       http://www.nbcbayarea.com/news/local/Active-Shooter-San-Francisco-Police-428441423.html; https://apnews.com/2c1690393510447995018b0f9467b44c?utm_campaign=SocialFlow&utm_source=Twitter&utm_medium=AP; http://www.sfchronicle.com/bayarea/article/Police-swarm-UPS-building-in-SF-on-report-of-11219519.php; https://www.pressroom.ups.com/pressroom/ContentDetailsViewer.page?ConceptType=PressReleases&id=1497461182413-836; http://www.foxnews.com/us/2017/06/15/san-francisco-ups-facility-shooting-gunman-identified-as-police-seek-motive.html; http://www.sfgate.com/crime/article/UPS-shooter-in-San-Francisco-used-stolen-gun-with-11243414.php  http://www.ktvu.com/news/ktvu-local-news/261771610-story; https://twitter.com/LauraGarciaCann/status/875072768471117824; http://heavy.com/news/2017/06/jimmy-lam-ups-san-francisco-shooting-suspect/; http://heavy.com/news/2017/06/jimmy-lam-ups-san-francisco-shooting-suspect/  http://www.nbcbayarea.com/news/local/Active-Shooter-San-Francisco-Police-428441423.html; https://apnews.com/2c1690393510447995018b0f9467b44c?utm_campaign=SocialFlow&utm_source=Twitter&utm_medium=AP; http://www.sfchronicle.com/bayarea/article/Police-swarm-UPS-building-in-SF-on-report-of-11219519.php; https://www.pressroom.ups.com/pressroom/ContentDetailsViewer.page?ConceptType=PressReleases&id=1497461182413-836; http://www.foxnews.com/us/2017/06/15/san-francisco-ups-facility-shooting-gunman-identified-as-police-seek-motive.html; http://www.sfgate.com/crime/article/UPS-shooter-in-San-Francisco-used-stolen-gun-with-11243414.php  37.765947  -122.406087  Mass  2017    1\n",
      "Red Lake massacre                     Red Lake, Minnesota        3/21/2005  Jeffrey Weise, 16, murdered his grandfather, who was a police officer, and grandfather's girlfriend. Weise then drove his grandfather's squad car to Red Lake Senior High School and opened fire on the reservation campus, killing another seven people before committing suicide.                          10          5        15             School      16              Yes                               He voluntarily visited a a psychiatric ward. He was hospitalized at least once for suicidal tendencies and was taking Prozac.                                                                                                                                                                                                                                                     No                        Glock and Remington stolen from grandfather                                                                Two semiautomatic handguns, one shotgun     .40-caliber Glock 23, .22-caliber Ruger semiautomatic handguns; 12-gauge Remington 870 shotgun  Native American  Male    http://news.google.com/newspapers?id=c4dIAAAAIBAJ&sjid=_XEDAAAAIBAJ&pg=5163,1527281&dq=jeffrey+weise+mental+ill&hl=en; http://www.cbsnews.com/stories/2005/03/24/national/main682915.shtml?source=search_story; http://www.usnews.com/usnews/news/articles/050404/4redlake.htm; http://www.foxnews.com/story/0,2933,151116,00.html                                                                                                                                                                                                                                                                                                                        http://www.cbsnews.com/stories/2005/03/24/national/main682915.shtml?source=search_story                                                                                                                                                                                            http://news.google.com/newspapers?id=c4dIAAAAIBAJ&sjid=_XEDAAAAIBAJ&pg=5163,1527281&dq=jeffrey+weise+mental+ill&hl=en; http://www.cbsnews.com/stories/2005/03/24/national/main682915.shtml?source=search_story; http://www.usnews.com/usnews/news/articles/050404/4redlake.htm; http://www.foxnews.com/story/0,2933,151116,00.html                                                                                                                                                                                                                                                                                                                        47.876346  -95.0169401  Mass  2005    1\n",
      "Rite Aid warehouse shooting           Perryman, Maryland         9/20/18    Snochia Moseley, 26, reportedly a disgruntled employee, shot her victims outside the building and on the warehouse floor; she later died from a self-inflicted gunshot at a nearby hospital. (No law enforcement officers responding to her attack fired shots.)                                             3           3        6              Workplace   26              -                                 -                                                                                                                                                                                                                                                                                                                                                                                 Yes                       -                                                                                                          semiautomatic handgun                       Glock 9 mm                                                                                      Black            F       http://www.baltimoresun.com/news/maryland/crime/bs-md-harford-shooting-20180920-story.html; https://www.washingtonpost.com/local/public-safety/maryland-sheriffs-office-says-multiple-victims-in-shooting/2018/09/20/9d2c6464-bcda-11e8-be70-52bd11fe18af_story.html; https://www.cnn.com/2018/09/20/us/maryland-shooting/index.html; https://heavy.com/news/2018/09/snochia-moseley/                                                                                                                                                                                                                                                                     -                                                                                                                                                                                                                                                                                  -                                                                                                                                                                                                                                                                                                                                                                                                                                                                                                                                                                                                                                                         39.455658  -76.208485   Mass  2018    1\n",
      "Robb Elementary School massacre       Uvalde, Texas              5/24/22    Salvador Ramos, 18, was identified by authorities as the suicidal gunman who attacked at Robb Elementary school.                                                                                                                                                                                             21          17       38             School      18              yes                               -                                                                                                                                                                                                                                                                                                                                                                                 yes                       -                                                                                                          semiautomatic rifles                        -                                                                                               Latino           M       https://abcnews.go.com/US/texas-elementary-school-reports-active-shooter-campus/story?; https://www.nytimes.com/live/2022/05/24/us/shooting-robb-elementary-uvaldeid=84940951; https://www.houstonchronicle.com/news/houston-texas/texas/article/Uvalde-school-shooting-Texas-17196069.php                                                                                                                                                                                                                                                                                                                                                                -                                                                                                                                                                                                                                                                                  -                                                                                                                                                                                                                                                                                                                                                                                                                                                                                                                                                                                                                                                         -          -            Mass  2022    1\n",
      "                                                                                                                                                                                                                                                                                                                                                                                                                                                                                                                                                                                                                                                                                                                                                                                                                                                                                                                                                                                                                                                                                                                                                                                                                                                                                                                                                                                                                                                                                                                                                                                                                                                                                                                                                                                                                                                                                                                                                                                                                                                                                                                                                                                                                                                                                                                                                                                                                                                                                                                                                                                                                                                                                                                                                                                                                                   ..\n",
      "Fort Hood shooting 2                  Fort Hood, Texas           4/3/2014   Army Specialist Ivan Lopez, 34, opened fire at the Fort Hood Army Post in Texas, killing three and wounding at least 12 others before shooting himself in the head after engaging with military police. Lt. Gen. Mark A. Milley told reporters that Lopez \"had behavioral health and mental health\" issues.  3           12       15             Military    34              Unclear                           Lopez \"had a long history of troubling behavior,\" according to the Washington Post, including a history of decieving others, problems in his personal life, and financial difficulties. However, officials found that Lopez exhibited no signals that he could be violent. In the year leading up to the attack, he sought treatment for medical and behavioral health ailments.  \\nYes                     Local gun store in Killeen, Guns Galore                                                                    handgun\\n                                   .45-caliber Smith & Wesson handgun                                                              Latino           M       http://www.cnn.com/2014/04/02/us/fort-hood-shooting/ and https://www.washingtonpost.com/news/checkpoint/wp/2015/01/23/army-details-the-downward-spiral-of-the-fort-hood-shooter-ivan-lopez/ and http://www.thedailybeast.com/articles/2014/04/03/soldier-opens-fire-at-fort-hood.html                                                                                                                                                                                                                                                                                                                                                                     -                                                                                                                                                                                                                                                                                  http://www.cnn.com/2014/04/02/us/fort-hood-shooting/ and https://www.washingtonpost.com/news/checkpoint/wp/2015/01/23/army-details-the-downward-spiral-of-the-fort-hood-shooter-ivan-lopez/ and http://www.thedailybeast.com/articles/2014/04/03/soldier-opens-fire-at-fort-hood.html                                                                                                                                                                                                                                                                                                                                                                     31.141716  -97.777559   Mass  2014    1\n",
      "Fort Hood massacre                    Fort Hood, Texas           11/5/2009  Army psychiatrist Nidal Malik Hasan, 39, opened fire on an Army base in an attack linked to Islamist extremism. Hasan was injured during the attack and later arrested.                                                                                                                                      13          31       44             Military    39              Unclear                           Medical officials at Walter Reed Army Medical Center and the Uniformed Services University of the Health Sciences raised concerns prior to the shooting regarding Hasan's aloof and erratic behavior and extremist Islamic views.                                                                                                                                                 Yes                       Guns Galore in Kileen, Texas                                                                               One semiautomatic handgun                   FN Five-seven semiautomatic handgun                                                             Other            Male    http://seattletimes.com/html/nationworld/2010232219_apusforthoodshooting.html; http://articles.latimes.com/2010/oct/21/nation/la-na-fort-hood-20101022; http://thelede.blogs.nytimes.com/2009/11/05/reports-of-mass-shooting-at-fort-hood/; http://www.usatoday.com/news/military/story/2012-08-14/fort-hood-rampage-trial/57050394/1                                                                                                                                                                                                                                                                                                                     http://www.npr.org/templates/story/story.php?storyId=120313570                                                                                                                                                                                                                     http://seattletimes.com/html/nationworld/2010232219_apusforthoodshooting.html; http://articles.latimes.com/2010/oct/21/nation/la-na-fort-hood-20101022; http://thelede.blogs.nytimes.com/2009/11/05/reports-of-mass-shooting-at-fort-hood/; http://www.usatoday.com/news/military/story/2012-08-14/fort-hood-rampage-trial/57050394/1                                                                                                                                                                                                                                                                                                                     31.135557  -97.783664   Mass  2009    1\n",
      "Florida awning manufacturer shooting  Orlando, Florida           6/5/2017   John Robert Neumann, Jr., 45, a former employee of manufacturer Fiamma Inc. fatally shot five workers at the company, and then killed himself on the scene. He'd been fired from the company in April. The attack took place a week before the one-year anniversary of the Orlando nightclub massacre.       5           0        5              Workplace   45              Unclear                           -                                                                                                                                                                                                                                                                                                                                                                                 TBD                       -                                                                                                          semiautomatic handgun                       -                                                                                               Unclear          M       http://www.postandcourier.com/news/multiple-people-dead-following-shooting-near-orlando-monday-morning/article_918fe64c-49f6-11e7-b071-a3fbdb04ebcc.html; http://www.mcclatchydc.com/news/politics-government/national-politics/article154471839.htmlhttp://edition.cnn.com/2017/06/05/us/orlando-fatalities/; http://www.orlandosentinel.com/news/orlando-workplace-shooting/os-john-robert-neumann-shooting-suspect-20170605-story.html                                                                                                                                                                                                                 -                                                                                                                                                                                                                                                                                  http://www.postandcourier.com/news/multiple-people-dead-following-shooting-near-orlando-monday-morning/article_918fe64c-49f6-11e7-b071-a3fbdb04ebcc.html; http://www.mcclatchydc.com/news/politics-government/national-politics/article154471839.htmlhttp://edition.cnn.com/2017/06/05/us/orlando-fatalities/; http://www.orlandosentinel.com/news/orlando-workplace-shooting/os-john-robert-neumann-shooting-suspect-20170605-story.html                                                                                                                                                                                                                 28.580295  -81.294086   Mass  2017    1\n",
      "Fifth Third Center shooting           Cincinnati, Ohio           9/6/18     Omar Enrique Santa Perez, 29, walked into the ground-floor lobby of a building in downtown Cincinnati shortly after 9 a.m. and opened fire. Within minutes, Perez was fatally wounded in a shootout with law enforcement officers responding to the scene.                                                   3           2        5              Workplace   29              Yes                               Perez filed a \"delusional\" lawsuit in 2017 against CNBC and TD Ameritrade; the federal judge who threw out the case said Perez's allegations were \"rambling, difficult to decpipher and borders on delusional.\"                                                                                                                                                                   Yes                       A local gun store                                                                                          semiautomatic handgun                       9mm handgun                                                                                     Latino           M       https://www.cnn.com/2018/09/07/us/cincinnati-shooting/index.html; https://www.cincinnati.com/story/news/crime/crime-and-courts/2018/09/06/omar-santa-perez-cincinnati-shooter-filed-lawsuit-against-cnbc/1217643002/; https://www.cincinnati.com/story/news/2018/09/07/cincinnati-shooting-what-we-know-suspect/1221725002/; https://www.cincinnati.com/story/news/2018/09/06/cincinnati-shooting-suspect-arrested-south-carolina-2014/1218729002/; https://www.cincinnati.com/story/news/crime/2018/09/07/why-cincinnati-shooter-allowed-have-gun/1221091002/                                                                                            -                                                                                                                                                                                                                                                                                  -                                                                                                                                                                                                                                                                                                                                                                                                                                                                                                                                                                                                                                                         39.101981  -84.511782   Mass  2018    1\n",
      "Yountville veterans home shooting     Yountville, California     3/9/18     Army veteran Albert Cheung Wong, 36, stormed a veterans home where he was previously under care, exchanging gunfire with a sheriff’s deputy and taking three women hostage, one of whom he’d previously threatened. After a standoff with law enforcement, he killed the three women and himself.            3           0        3              Workplace   36              Yes                               Wong had served in Afghanistan and had a history of PTSD.                                                                                                                                                                                                                                                                                                                         Yes                       TBD                                                                                                        semiautomatic rifle; shotgun                -                                                                                               Asian            M       https://www.cnn.com/2018/03/10/us/california-veterans-home-shooting/index.html; http://www.ktvu.com/news/gunman-in-yountville-veterans-home-killings-was-ex-patient; https://www.washingtonpost.com/news/post-nation/wp/2018/03/09/police-respond-to-reports-of-gunfire-and-hostages-taken-at-california-veterans-home/?utm_term=.b9dde7ac5f0f                                                                                                                                                                                                                                                                                                            https://www.cnn.com/2018/03/10/us/california-veterans-home-shooting/index.html                                                                                                                                                                                                     https://www.cnn.com/2018/03/10/us/california-veterans-home-shooting/index.html; http://www.ktvu.com/news/gunman-in-yountville-veterans-home-killings-was-ex-patient; https://www.washingtonpost.com/news/post-nation/wp/2018/03/09/police-respond-to-reports-of-gunfire-and-hostages-taken-at-california-veterans-home/?utm_term=.b9dde7ac5f0f                                                                                                                                                                                                                                                                                                            38.392496  -122.366528  Mass  2018    1\n",
      "Length: 140, dtype: int64\n"
     ]
    }
   ],
   "source": [
    "freq_dist = filtered_df.value_counts()\n",
    "print(freq_dist)"
   ]
  },
  {
   "cell_type": "code",
   "execution_count": 87,
   "id": "6fee2b69",
   "metadata": {},
   "outputs": [
    {
     "data": {
      "text/plain": [
       "48"
      ]
     },
     "execution_count": 87,
     "metadata": {},
     "output_type": "execute_result"
    }
   ],
   "source": [
    "df['age_of_shooter'][26]"
   ]
  },
  {
   "cell_type": "code",
   "execution_count": 91,
   "id": "6784d008",
   "metadata": {},
   "outputs": [],
   "source": [
    "# Create a histogram for the 'age' column\n",
    "df['injured'].hist()\n",
    "#plt.xticks(rotation=90)\n",
    "# Show the plot\n",
    "plt.show()"
   ]
  },
  {
   "cell_type": "code",
   "execution_count": 95,
   "id": "15444e8f",
   "metadata": {},
   "outputs": [
    {
     "data": {
      "image/png": "[encoded data removed]",
      "text/plain": [
       "<Figure size 640x480 with 1 Axes>"
      ]
     },
     "metadata": {},
     "output_type": "display_data"
    }
   ],
   "source": [
    "# Create a histogram for the 'age' column\n",
    "df['age_of_shooter'].hist()\n",
    "#plt.xticks(rotation=90)\n",
    "# Show the plot\n",
    "plt.show()"
   ]
  },
  {
   "cell_type": "code",
   "execution_count": 96,
   "id": "2f8ebf1b",
   "metadata": {},
   "outputs": [
    {
     "data": {
      "image/png": "[encoded data removed]",
      "text/plain": [
       "<Figure size 640x480 with 1 Axes>"
      ]
     },
     "metadata": {},
     "output_type": "display_data"
    }
   ],
   "source": [
    "# Create a histogram for the 'age' column\n",
    "df['fatalities'].hist()\n",
    "#plt.xticks(rotation=90)\n",
    "# Show the plot\n",
    "plt.show()"
   ]
  },
  {
   "cell_type": "code",
   "execution_count": 103,
   "id": "36b69635",
   "metadata": {},
   "outputs": [
    {
     "data": {
      "image/png": "[encoded data removed]",
      "text/plain": [
       "<Figure size 640x480 with 1 Axes>"
      ]
     },
     "metadata": {},
     "output_type": "display_data"
    }
   ],
   "source": [
    "# Create a histogram for the 'age' column\n",
    "df['injured'].hist()\n",
    "#plt.xticks(rotation=90)\n",
    "# Show the plot\n",
    "plt.show()"
   ]
  },
  {
   "cell_type": "code",
   "execution_count": 100,
   "id": "5d03ff26",
   "metadata": {},
   "outputs": [
    {
     "name": "stderr",
     "output_type": "stream",
     "text": [
      "C:\\Users\\aharb\\AppData\\Local\\Temp\\ipykernel_6448\\339875393.py:1: SettingWithCopyWarning: \n",
      "A value is trying to be set on a copy of a slice from a DataFrame\n",
      "\n",
      "See the caveats in the documentation: https://pandas.pydata.org/pandas-docs/stable/user_guide/indexing.html#returning-a-view-versus-a-copy\n",
      "  df['injured'][14]=7\n"
     ]
    }
   ],
   "source": [
    "df['injured'][14]=7"
   ]
  },
  {
   "cell_type": "code",
   "execution_count": 102,
   "id": "876ec070",
   "metadata": {},
   "outputs": [],
   "source": [
    "df['injured'] = df['injured'].astype(int)"
   ]
  },
  {
   "cell_type": "code",
   "execution_count": 106,
   "id": "38f77251",
   "metadata": {},
   "outputs": [
    {
     "name": "stderr",
     "output_type": "stream",
     "text": [
      "C:\\Users\\aharb\\AppData\\Local\\Temp\\ipykernel_6448\\4272542044.py:1: SettingWithCopyWarning: \n",
      "A value is trying to be set on a copy of a slice from a DataFrame\n",
      "\n",
      "See the caveats in the documentation: https://pandas.pydata.org/pandas-docs/stable/user_guide/indexing.html#returning-a-view-versus-a-copy\n",
      "  df['total_victims'][14]=4\n"
     ]
    }
   ],
   "source": [
    "df['total_victims'][14]=4"
   ]
  },
  {
   "cell_type": "code",
   "execution_count": 110,
   "id": "7c3a2605",
   "metadata": {},
   "outputs": [
    {
     "data": {
      "image/png": "[encoded data removed]",
      "text/plain": [
       "<Figure size 640x480 with 1 Axes>"
      ]
     },
     "metadata": {},
     "output_type": "display_data"
    }
   ],
   "source": [
    "# Create a histogram for the 'age' column\n",
    "df['total_victims'].hist()\n",
    "#plt.xticks(rotation=90)\n",
    "# Show the plot\n",
    "plt.show()"
   ]
  },
  {
   "cell_type": "code",
   "execution_count": 109,
   "id": "3265f725",
   "metadata": {},
   "outputs": [],
   "source": [
    "df['total_victims'] = df['total_victims'].astype(int)"
   ]
  },
  {
   "cell_type": "code",
   "execution_count": 111,
   "id": "b27a0436",
   "metadata": {},
   "outputs": [
    {
     "data": {
      "text/plain": [
       "604"
      ]
     },
     "execution_count": 111,
     "metadata": {},
     "output_type": "execute_result"
    }
   ],
   "source": [
    "df['total_victims'].max()"
   ]
  },
  {
   "cell_type": "code",
   "execution_count": 113,
   "id": "85159410",
   "metadata": {},
   "outputs": [
    {
     "name": "stdout",
     "output_type": "stream",
     "text": [
      "                        case           location     date  \\\n",
      "52  Las Vegas Strip massacre  Las Vegas, Nevada  10/1/17   \n",
      "\n",
      "                                              summary  fatalities  injured  \\\n",
      "52  Stephen Craig Paddock, 64, fired a barrage of ...          58      546   \n",
      "\n",
      "    total_victims location.1  age_of_shooter prior_signs_mental_health_issues  \\\n",
      "52            604      Other              64                              TBD   \n",
      "\n",
      "    ...                                     weapon_details   race gender  \\\n",
      "52  ...  AR-15-style and AK-47-style rifles and \"a larg...  White      M   \n",
      "\n",
      "                                              sources  \\\n",
      "52  https://www.lvmpd.com/en-us/Documents/1_Octobe...   \n",
      "\n",
      "                                mental_health_sources  \\\n",
      "52  https://www.nytimes.com/2017/10/13/us/stephen-...   \n",
      "\n",
      "                               sources_additional_age   latitude    longitude  \\\n",
      "52  https://www.lvmpd.com/en-us/Documents/1_Octobe...  36.095739  -115.171544   \n",
      "\n",
      "    type  year  \n",
      "52  Mass  2017  \n",
      "\n",
      "[1 rows x 24 columns]\n"
     ]
    }
   ],
   "source": [
    "Highest_Victims = df[df['total_victims'] == 604]\n",
    "print(Highest_Victims)"
   ]
  },
  {
   "cell_type": "code",
   "execution_count": 114,
   "id": "75f9c29a",
   "metadata": {},
   "outputs": [],
   "source": [
    "df[['City', 'State']] = df['location'].str.split(', ', expand=True)"
   ]
  },
  {
   "cell_type": "code",
   "execution_count": 115,
   "id": "340ef5c5",
   "metadata": {},
   "outputs": [
    {
     "data": {
      "text/html": [
       "<div>\n",
       "<style scoped>\n",
       "    .dataframe tbody tr th:only-of-type {\n",
       "        vertical-align: middle;\n",
       "    }\n",
       "\n",
       "    .dataframe tbody tr th {\n",
       "        vertical-align: top;\n",
       "    }\n",
       "\n",
       "    .dataframe thead th {\n",
       "        text-align: right;\n",
       "    }\n",
       "</style>\n",
       "<table border=\"1\" class=\"dataframe\">\n",
       "  <thead>\n",
       "    <tr style=\"text-align: right;\">\n",
       "      <th></th>\n",
       "      <th>case</th>\n",
       "      <th>location</th>\n",
       "      <th>date</th>\n",
       "      <th>summary</th>\n",
       "      <th>fatalities</th>\n",
       "      <th>injured</th>\n",
       "      <th>total_victims</th>\n",
       "      <th>location.1</th>\n",
       "      <th>age_of_shooter</th>\n",
       "      <th>prior_signs_mental_health_issues</th>\n",
       "      <th>...</th>\n",
       "      <th>gender</th>\n",
       "      <th>sources</th>\n",
       "      <th>mental_health_sources</th>\n",
       "      <th>sources_additional_age</th>\n",
       "      <th>latitude</th>\n",
       "      <th>longitude</th>\n",
       "      <th>type</th>\n",
       "      <th>year</th>\n",
       "      <th>City</th>\n",
       "      <th>State</th>\n",
       "    </tr>\n",
       "  </thead>\n",
       "  <tbody>\n",
       "    <tr>\n",
       "      <th>0</th>\n",
       "      <td>Texas outlet mall shooting</td>\n",
       "      <td>Allen, Texas</td>\n",
       "      <td>5/6/23</td>\n",
       "      <td>Mauricio Garcia, 33, wore tactical gear and us...</td>\n",
       "      <td>8</td>\n",
       "      <td>7</td>\n",
       "      <td>15</td>\n",
       "      <td>Other</td>\n",
       "      <td>33</td>\n",
       "      <td>yes</td>\n",
       "      <td>...</td>\n",
       "      <td>M</td>\n",
       "      <td>https://www.nytimes.com/2023/05/07/us/texas-ma...</td>\n",
       "      <td>-</td>\n",
       "      <td>-</td>\n",
       "      <td>-</td>\n",
       "      <td>-</td>\n",
       "      <td>Mass</td>\n",
       "      <td>2023</td>\n",
       "      <td>Allen</td>\n",
       "      <td>Texas</td>\n",
       "    </tr>\n",
       "  </tbody>\n",
       "</table>\n",
       "<p>1 rows × 26 columns</p>\n",
       "</div>"
      ],
      "text/plain": [
       "                         case      location    date  \\\n",
       "0  Texas outlet mall shooting  Allen, Texas  5/6/23   \n",
       "\n",
       "                                             summary  fatalities  injured  \\\n",
       "0  Mauricio Garcia, 33, wore tactical gear and us...           8        7   \n",
       "\n",
       "   total_victims location.1  age_of_shooter prior_signs_mental_health_issues  \\\n",
       "0             15      Other              33                              yes   \n",
       "\n",
       "   ... gender                                            sources  \\\n",
       "0  ...      M  https://www.nytimes.com/2023/05/07/us/texas-ma...   \n",
       "\n",
       "  mental_health_sources sources_additional_age latitude longitude  type  year  \\\n",
       "0                     -                      -        -         -  Mass  2023   \n",
       "\n",
       "    City  State  \n",
       "0  Allen  Texas  \n",
       "\n",
       "[1 rows x 26 columns]"
      ]
     },
     "execution_count": 115,
     "metadata": {},
     "output_type": "execute_result"
    }
   ],
   "source": [
    "df.head(1)"
   ]
  },
  {
   "cell_type": "code",
   "execution_count": 137,
   "id": "0392e305",
   "metadata": {},
   "outputs": [],
   "source": [
    "freq_dist = df['State'].value_counts()"
   ]
  },
  {
   "cell_type": "code",
   "execution_count": 138,
   "id": "71847d29",
   "metadata": {},
   "outputs": [
    {
     "name": "stdout",
     "output_type": "stream",
     "text": [
      "California        25\n",
      "Texas             13\n",
      "Florida           12\n",
      "Colorado           8\n",
      "Washington         7\n",
      "Pennsylvania       5\n",
      "Wisconsin          5\n",
      "New York           5\n",
      "Illinois           5\n",
      "Maryland           4\n",
      "Ohio               4\n",
      "Virginia           4\n",
      "Michigan           4\n",
      "Georgia            3\n",
      "North Carolina     3\n",
      "Kentucky           3\n",
      "Connecticut        3\n",
      "Tennessee          3\n",
      "Nevada             2\n",
      "South Carolina     2\n",
      "Indiana            2\n",
      "Missouri           2\n",
      "Minnesota          2\n",
      "Oklahoma           2\n",
      "Oregon             2\n",
      "Massachusetts      1\n",
      "Alabama            1\n",
      "Hawaii             1\n",
      "Utah               1\n",
      "Arkansas           1\n",
      "Mississippi        1\n",
      "Kansas             1\n",
      "Nebraska           1\n",
      "Arizona            1\n",
      "D.C.               1\n",
      "Lousiana           1\n",
      "New Jersey         1\n",
      "Iowa               1\n",
      "Name: State, dtype: int64\n"
     ]
    }
   ],
   "source": [
    "print(freq_dist)"
   ]
  },
  {
   "cell_type": "code",
   "execution_count": 146,
   "id": "5ba70d6b",
   "metadata": {},
   "outputs": [
    {
     "data": {
      "text/plain": [
       "<AxesSubplot:>"
      ]
     },
     "execution_count": 146,
     "metadata": {},
     "output_type": "execute_result"
    },
    {
     "data": {
      "image/png": "[encoded data removed]",
      "text/plain": [
       "<Figure size 1200x800 with 1 Axes>"
      ]
     },
     "metadata": {},
     "output_type": "display_data"
    }
   ],
   "source": [
    "freq_dist.plot(kind='bar', x='State', y='Frequency', figsize=(12,8), color='green', width=0.5)"
   ]
  },
  {
   "cell_type": "code",
   "execution_count": null,
   "id": "ad104659",
   "metadata": {},
   "outputs": [],
   "source": [
    "df.to_csv('my_data.csv', index=False)"
   ]
  },
  {
   "cell_type": "code",
   "execution_count": 3,
   "id": "a86e121e",
   "metadata": {},
   "outputs": [],
   "source": [
    "import pandas as pd\n",
    "df = pd.read_csv('Mass_Shootings.csv')"
   ]
  },
  {
   "cell_type": "code",
   "execution_count": 4,
   "id": "1dc9d42a",
   "metadata": {},
   "outputs": [
    {
     "data": {
      "text/html": [
       "<div>\n",
       "<style scoped>\n",
       "    .dataframe tbody tr th:only-of-type {\n",
       "        vertical-align: middle;\n",
       "    }\n",
       "\n",
       "    .dataframe tbody tr th {\n",
       "        vertical-align: top;\n",
       "    }\n",
       "\n",
       "    .dataframe thead th {\n",
       "        text-align: right;\n",
       "    }\n",
       "</style>\n",
       "<table border=\"1\" class=\"dataframe\">\n",
       "  <thead>\n",
       "    <tr style=\"text-align: right;\">\n",
       "      <th></th>\n",
       "      <th>case</th>\n",
       "      <th>location</th>\n",
       "      <th>date</th>\n",
       "      <th>summary</th>\n",
       "      <th>fatalities</th>\n",
       "      <th>injured</th>\n",
       "      <th>total_victims</th>\n",
       "      <th>location.1</th>\n",
       "      <th>age_of_shooter</th>\n",
       "      <th>prior_signs_mental_health_issues</th>\n",
       "      <th>...</th>\n",
       "      <th>gender</th>\n",
       "      <th>sources</th>\n",
       "      <th>mental_health_sources</th>\n",
       "      <th>sources_additional_age</th>\n",
       "      <th>latitude</th>\n",
       "      <th>longitude</th>\n",
       "      <th>type</th>\n",
       "      <th>year</th>\n",
       "      <th>City</th>\n",
       "      <th>State</th>\n",
       "    </tr>\n",
       "  </thead>\n",
       "  <tbody>\n",
       "    <tr>\n",
       "      <th>0</th>\n",
       "      <td>Texas outlet mall shooting</td>\n",
       "      <td>Allen, Texas</td>\n",
       "      <td>5/6/23</td>\n",
       "      <td>Mauricio Garcia, 33, wore tactical gear and us...</td>\n",
       "      <td>8</td>\n",
       "      <td>7</td>\n",
       "      <td>15</td>\n",
       "      <td>Other</td>\n",
       "      <td>33</td>\n",
       "      <td>yes</td>\n",
       "      <td>...</td>\n",
       "      <td>M</td>\n",
       "      <td>https://www.nytimes.com/2023/05/07/us/texas-ma...</td>\n",
       "      <td>-</td>\n",
       "      <td>-</td>\n",
       "      <td>-</td>\n",
       "      <td>-</td>\n",
       "      <td>Mass</td>\n",
       "      <td>2023</td>\n",
       "      <td>Allen</td>\n",
       "      <td>Texas</td>\n",
       "    </tr>\n",
       "    <tr>\n",
       "      <th>1</th>\n",
       "      <td>Louisville bank shooting</td>\n",
       "      <td>Louisville, Kentucky</td>\n",
       "      <td>4/10/23</td>\n",
       "      <td>Connor Sturgeon, 25, opened fire inside Old Na...</td>\n",
       "      <td>5</td>\n",
       "      <td>8</td>\n",
       "      <td>13</td>\n",
       "      <td>Workplace</td>\n",
       "      <td>25</td>\n",
       "      <td>yes</td>\n",
       "      <td>...</td>\n",
       "      <td>M</td>\n",
       "      <td>https://apnews.com/article/downtown-louisville...</td>\n",
       "      <td>-</td>\n",
       "      <td>-</td>\n",
       "      <td>-</td>\n",
       "      <td>-</td>\n",
       "      <td>Mass</td>\n",
       "      <td>2023</td>\n",
       "      <td>Louisville</td>\n",
       "      <td>Kentucky</td>\n",
       "    </tr>\n",
       "  </tbody>\n",
       "</table>\n",
       "<p>2 rows × 26 columns</p>\n",
       "</div>"
      ],
      "text/plain": [
       "                         case              location     date  \\\n",
       "0  Texas outlet mall shooting          Allen, Texas   5/6/23   \n",
       "1    Louisville bank shooting  Louisville, Kentucky  4/10/23   \n",
       "\n",
       "                                             summary  fatalities  injured  \\\n",
       "0  Mauricio Garcia, 33, wore tactical gear and us...           8        7   \n",
       "1  Connor Sturgeon, 25, opened fire inside Old Na...           5        8   \n",
       "\n",
       "   total_victims location.1  age_of_shooter prior_signs_mental_health_issues  \\\n",
       "0             15      Other              33                              yes   \n",
       "1             13  Workplace              25                              yes   \n",
       "\n",
       "   ... gender                                            sources  \\\n",
       "0  ...      M  https://www.nytimes.com/2023/05/07/us/texas-ma...   \n",
       "1  ...      M  https://apnews.com/article/downtown-louisville...   \n",
       "\n",
       "  mental_health_sources sources_additional_age latitude longitude  type  year  \\\n",
       "0                     -                      -        -         -  Mass  2023   \n",
       "1                     -                      -        -         -  Mass  2023   \n",
       "\n",
       "         City     State  \n",
       "0       Allen     Texas  \n",
       "1  Louisville  Kentucky  \n",
       "\n",
       "[2 rows x 26 columns]"
      ]
     },
     "execution_count": 4,
     "metadata": {},
     "output_type": "execute_result"
    }
   ],
   "source": [
    "df.head(2)"
   ]
  },
  {
   "cell_type": "code",
   "execution_count": 5,
   "id": "3a5d8b00",
   "metadata": {},
   "outputs": [
    {
     "name": "stdout",
     "output_type": "stream",
     "text": [
      "count    143.000000\n",
      "mean      34.076923\n",
      "std       13.108473\n",
      "min       11.000000\n",
      "25%       23.000000\n",
      "50%       33.000000\n",
      "75%       43.000000\n",
      "max       72.000000\n",
      "Name: age_of_shooter, dtype: float64\n"
     ]
    }
   ],
   "source": [
    "# find descriptive statistics for the 'income' column\n",
    "stats = df['age_of_shooter'].describe()\n",
    "\n",
    "print(stats)"
   ]
  },
  {
   "cell_type": "code",
   "execution_count": 6,
   "id": "55d2b1bb",
   "metadata": {},
   "outputs": [
    {
     "name": "stdout",
     "output_type": "stream",
     "text": [
      "count    143.00000\n",
      "mean       7.79021\n",
      "std        7.41416\n",
      "min        3.00000\n",
      "25%        4.00000\n",
      "50%        6.00000\n",
      "75%        8.00000\n",
      "max       58.00000\n",
      "Name: fatalities, dtype: float64\n"
     ]
    }
   ],
   "source": [
    "# find descriptive statistics for the 'income' column\n",
    "stats = df['fatalities'].describe()\n",
    "\n",
    "print(stats)"
   ]
  },
  {
   "cell_type": "code",
   "execution_count": 7,
   "id": "a9a2d150",
   "metadata": {},
   "outputs": [
    {
     "name": "stdout",
     "output_type": "stream",
     "text": [
      "count    143.000000\n",
      "mean      11.237762\n",
      "std       46.238353\n",
      "min        0.000000\n",
      "25%        1.000000\n",
      "50%        3.000000\n",
      "75%       10.000000\n",
      "max      546.000000\n",
      "Name: injured, dtype: float64\n"
     ]
    }
   ],
   "source": [
    "# find descriptive statistics for the 'income' column\n",
    "stats = df['injured'].describe()\n",
    "\n",
    "print(stats)"
   ]
  },
  {
   "cell_type": "code",
   "execution_count": 8,
   "id": "d27ac003",
   "metadata": {},
   "outputs": [
    {
     "name": "stdout",
     "output_type": "stream",
     "text": [
      "count    143.000000\n",
      "mean      18.979021\n",
      "std       51.377157\n",
      "min        3.000000\n",
      "25%        6.000000\n",
      "50%       10.000000\n",
      "75%       17.000000\n",
      "max      604.000000\n",
      "Name: total_victims, dtype: float64\n"
     ]
    }
   ],
   "source": [
    "# find descriptive statistics for the 'income' column\n",
    "stats = df['total_victims'].describe()\n",
    "\n",
    "print(stats)"
   ]
  },
  {
   "cell_type": "code",
   "execution_count": 9,
   "id": "ea1de249",
   "metadata": {},
   "outputs": [
    {
     "name": "stdout",
     "output_type": "stream",
     "text": [
      "2018    12\n",
      "2022    12\n",
      "2017    11\n",
      "2019    10\n",
      "2015     7\n",
      "2012     7\n",
      "2023     6\n",
      "2021     6\n",
      "2016     6\n",
      "1999     5\n",
      "2013     5\n",
      "2009     4\n",
      "2007     4\n",
      "1993     4\n",
      "2014     4\n",
      "2011     3\n",
      "2006     3\n",
      "1998     3\n",
      "1991     3\n",
      "2008     3\n",
      "1984     2\n",
      "1992     2\n",
      "2005     2\n",
      "2020     2\n",
      "1997     2\n",
      "1989     2\n",
      "1986     1\n",
      "1987     1\n",
      "1988     1\n",
      "1990     1\n",
      "2004     1\n",
      "1994     1\n",
      "1995     1\n",
      "1996     1\n",
      "2000     1\n",
      "2001     1\n",
      "2003     1\n",
      "2010     1\n",
      "1982     1\n",
      "Name: year, dtype: int64\n"
     ]
    }
   ],
   "source": [
    "freq_dist = df['year'].value_counts()\n",
    "print(freq_dist)"
   ]
  },
  {
   "cell_type": "code",
   "execution_count": 10,
   "id": "e300e4e2",
   "metadata": {},
   "outputs": [
    {
     "data": {
      "text/plain": [
       "<AxesSubplot:>"
      ]
     },
     "execution_count": 10,
     "metadata": {},
     "output_type": "execute_result"
    },
    {
     "data": {
      "image/png": "[encoded data removed]",
      "text/plain": [
       "<Figure size 1200x800 with 1 Axes>"
      ]
     },
     "metadata": {},
     "output_type": "display_data"
    }
   ],
   "source": [
    "freq_dist.plot(kind='bar', x='State', y='Frequency', figsize=(12,8), color='green', width=0.5)"
   ]
  },
  {
   "cell_type": "code",
   "execution_count": 11,
   "id": "c43e6776",
   "metadata": {},
   "outputs": [],
   "source": [
    "df['year'] = df['year'].astype(int)"
   ]
  },
  {
   "cell_type": "code",
   "execution_count": 17,
   "id": "cb993879",
   "metadata": {},
   "outputs": [
    {
     "name": "stdout",
     "output_type": "stream",
     "text": [
      "2018    12\n",
      "2022    12\n",
      "2017    11\n",
      "2019    10\n",
      "2015     7\n",
      "2012     7\n",
      "2021     6\n",
      "2016     6\n",
      "2023     6\n",
      "1999     5\n",
      "2013     5\n",
      "2009     4\n",
      "2007     4\n",
      "1993     4\n",
      "2014     4\n",
      "1998     3\n",
      "1991     3\n",
      "2008     3\n",
      "2006     3\n",
      "2011     3\n",
      "1984     2\n",
      "1992     2\n",
      "2005     2\n",
      "2020     2\n",
      "1997     2\n",
      "1989     2\n",
      "1995     1\n",
      "2010     1\n",
      "2003     1\n",
      "2001     1\n",
      "2000     1\n",
      "1996     1\n",
      "1988     1\n",
      "1994     1\n",
      "2004     1\n",
      "1990     1\n",
      "1987     1\n",
      "1986     1\n",
      "1982     1\n",
      "Name: year, dtype: int64\n"
     ]
    }
   ],
   "source": [
    "freq_dist = df['year'].value_counts().sort_values(ascending=False)\n",
    "print(freq_dist)"
   ]
  },
  {
   "cell_type": "code",
   "execution_count": 13,
   "id": "f7e2eaeb",
   "metadata": {},
   "outputs": [
    {
     "data": {
      "text/plain": [
       "<AxesSubplot:>"
      ]
     },
     "execution_count": 13,
     "metadata": {},
     "output_type": "execute_result"
    },
    {
     "data": {
      "image/png": "[encoded data removed]",
      "text/plain": [
       "<Figure size 1200x800 with 1 Axes>"
      ]
     },
     "metadata": {},
     "output_type": "display_data"
    }
   ],
   "source": [
    "freq_dist.plot(kind='bar', x='State', y='Frequency', figsize=(12,8), color='green', width=0.5)"
   ]
  },
  {
   "cell_type": "code",
   "execution_count": 20,
   "id": "465f1d74",
   "metadata": {},
   "outputs": [
    {
     "name": "stdout",
     "output_type": "stream",
     "text": [
      "1982     1\n",
      "1984     2\n",
      "1986     1\n",
      "1987     1\n",
      "1988     1\n",
      "1989     2\n",
      "1990     1\n",
      "1991     3\n",
      "1992     2\n",
      "1993     4\n",
      "1994     1\n",
      "1995     1\n",
      "1996     1\n",
      "1997     2\n",
      "1998     3\n",
      "1999     5\n",
      "2000     1\n",
      "2001     1\n",
      "2003     1\n",
      "2004     1\n",
      "2005     2\n",
      "2006     3\n",
      "2007     4\n",
      "2008     3\n",
      "2009     4\n",
      "2010     1\n",
      "2011     3\n",
      "2012     7\n",
      "2013     5\n",
      "2014     4\n",
      "2015     7\n",
      "2016     6\n",
      "2017    11\n",
      "2018    12\n",
      "2019    10\n",
      "2020     2\n",
      "2021     6\n",
      "2022    12\n",
      "2023     6\n",
      "Name: year, dtype: int64\n"
     ]
    },
    {
     "data": {
      "text/plain": [
       "<AxesSubplot:>"
      ]
     },
     "execution_count": 20,
     "metadata": {},
     "output_type": "execute_result"
    },
    {
     "data": {
      "image/png": "[encoded data removed]",
      "text/plain": [
       "<Figure size 1200x800 with 1 Axes>"
      ]
     },
     "metadata": {},
     "output_type": "display_data"
    }
   ],
   "source": [
    "freq_dist = df['year'].value_counts(sort=False).sort_index()\n",
    "print(freq_dist)\n",
    "freq_dist.plot(kind='bar', x='State', y='Frequency', figsize=(12,8), color='green', width=0.5)"
   ]
  },
  {
   "cell_type": "code",
   "execution_count": 21,
   "id": "0e14a135",
   "metadata": {},
   "outputs": [
    {
     "data": {
      "text/html": [
       "<div>\n",
       "<style scoped>\n",
       "    .dataframe tbody tr th:only-of-type {\n",
       "        vertical-align: middle;\n",
       "    }\n",
       "\n",
       "    .dataframe tbody tr th {\n",
       "        vertical-align: top;\n",
       "    }\n",
       "\n",
       "    .dataframe thead th {\n",
       "        text-align: right;\n",
       "    }\n",
       "</style>\n",
       "<table border=\"1\" class=\"dataframe\">\n",
       "  <thead>\n",
       "    <tr style=\"text-align: right;\">\n",
       "      <th></th>\n",
       "      <th>case</th>\n",
       "      <th>location</th>\n",
       "      <th>date</th>\n",
       "      <th>summary</th>\n",
       "      <th>fatalities</th>\n",
       "      <th>injured</th>\n",
       "      <th>total_victims</th>\n",
       "      <th>location.1</th>\n",
       "      <th>age_of_shooter</th>\n",
       "      <th>prior_signs_mental_health_issues</th>\n",
       "      <th>...</th>\n",
       "      <th>gender</th>\n",
       "      <th>sources</th>\n",
       "      <th>mental_health_sources</th>\n",
       "      <th>sources_additional_age</th>\n",
       "      <th>latitude</th>\n",
       "      <th>longitude</th>\n",
       "      <th>type</th>\n",
       "      <th>year</th>\n",
       "      <th>City</th>\n",
       "      <th>State</th>\n",
       "    </tr>\n",
       "  </thead>\n",
       "  <tbody>\n",
       "    <tr>\n",
       "      <th>0</th>\n",
       "      <td>Texas outlet mall shooting</td>\n",
       "      <td>Allen, Texas</td>\n",
       "      <td>5/6/23</td>\n",
       "      <td>Mauricio Garcia, 33, wore tactical gear and us...</td>\n",
       "      <td>8</td>\n",
       "      <td>7</td>\n",
       "      <td>15</td>\n",
       "      <td>Other</td>\n",
       "      <td>33</td>\n",
       "      <td>yes</td>\n",
       "      <td>...</td>\n",
       "      <td>M</td>\n",
       "      <td>https://www.nytimes.com/2023/05/07/us/texas-ma...</td>\n",
       "      <td>-</td>\n",
       "      <td>-</td>\n",
       "      <td>-</td>\n",
       "      <td>-</td>\n",
       "      <td>Mass</td>\n",
       "      <td>2023</td>\n",
       "      <td>Allen</td>\n",
       "      <td>Texas</td>\n",
       "    </tr>\n",
       "    <tr>\n",
       "      <th>1</th>\n",
       "      <td>Louisville bank shooting</td>\n",
       "      <td>Louisville, Kentucky</td>\n",
       "      <td>4/10/23</td>\n",
       "      <td>Connor Sturgeon, 25, opened fire inside Old Na...</td>\n",
       "      <td>5</td>\n",
       "      <td>8</td>\n",
       "      <td>13</td>\n",
       "      <td>Workplace</td>\n",
       "      <td>25</td>\n",
       "      <td>yes</td>\n",
       "      <td>...</td>\n",
       "      <td>M</td>\n",
       "      <td>https://apnews.com/article/downtown-louisville...</td>\n",
       "      <td>-</td>\n",
       "      <td>-</td>\n",
       "      <td>-</td>\n",
       "      <td>-</td>\n",
       "      <td>Mass</td>\n",
       "      <td>2023</td>\n",
       "      <td>Louisville</td>\n",
       "      <td>Kentucky</td>\n",
       "    </tr>\n",
       "  </tbody>\n",
       "</table>\n",
       "<p>2 rows × 26 columns</p>\n",
       "</div>"
      ],
      "text/plain": [
       "                         case              location     date  \\\n",
       "0  Texas outlet mall shooting          Allen, Texas   5/6/23   \n",
       "1    Louisville bank shooting  Louisville, Kentucky  4/10/23   \n",
       "\n",
       "                                             summary  fatalities  injured  \\\n",
       "0  Mauricio Garcia, 33, wore tactical gear and us...           8        7   \n",
       "1  Connor Sturgeon, 25, opened fire inside Old Na...           5        8   \n",
       "\n",
       "   total_victims location.1  age_of_shooter prior_signs_mental_health_issues  \\\n",
       "0             15      Other              33                              yes   \n",
       "1             13  Workplace              25                              yes   \n",
       "\n",
       "   ... gender                                            sources  \\\n",
       "0  ...      M  https://www.nytimes.com/2023/05/07/us/texas-ma...   \n",
       "1  ...      M  https://apnews.com/article/downtown-louisville...   \n",
       "\n",
       "  mental_health_sources sources_additional_age latitude longitude  type  year  \\\n",
       "0                     -                      -        -         -  Mass  2023   \n",
       "1                     -                      -        -         -  Mass  2023   \n",
       "\n",
       "         City     State  \n",
       "0       Allen     Texas  \n",
       "1  Louisville  Kentucky  \n",
       "\n",
       "[2 rows x 26 columns]"
      ]
     },
     "execution_count": 21,
     "metadata": {},
     "output_type": "execute_result"
    }
   ],
   "source": [
    "df.head(2)"
   ]
  },
  {
   "cell_type": "code",
   "execution_count": 22,
   "id": "422eb6ac",
   "metadata": {},
   "outputs": [
    {
     "name": "stdout",
     "output_type": "stream",
     "text": [
      "Male                                                                                                                                                                     70\n",
      "M                                                                                                                                                                        67\n",
      "Male & Female                                                                                                                                                             2\n",
      "Female                                                                                                                                                                    2\n",
      "F (\"identifies as transgender\" and \"Audrey Hale is a biological woman who, on a social media profile, used male pronouns,” according to Nashville Metro PD officials)     1\n",
      "F                                                                                                                                                                         1\n",
      "Name: gender, dtype: int64\n"
     ]
    }
   ],
   "source": [
    "freq_dist = df['gender'].value_counts()\n",
    "print(freq_dist)"
   ]
  },
  {
   "cell_type": "code",
   "execution_count": 23,
   "id": "caab9fe0",
   "metadata": {},
   "outputs": [],
   "source": [
    "df['gender'] = df['gender'].str.replace('M', 'Male')"
   ]
  },
  {
   "cell_type": "code",
   "execution_count": 24,
   "id": "28f47b60",
   "metadata": {},
   "outputs": [],
   "source": [
    "df['gender'] = df['gender'].str.replace('F', 'Female')"
   ]
  },
  {
   "cell_type": "code",
   "execution_count": 25,
   "id": "827241fe",
   "metadata": {},
   "outputs": [
    {
     "name": "stdout",
     "output_type": "stream",
     "text": [
      "Maleale                                                                                                                                                                          70\n",
      "Male                                                                                                                                                                             67\n",
      "Maleale & Femaleemale                                                                                                                                                             2\n",
      "Femaleemale                                                                                                                                                                       2\n",
      "Female (\"identifies as transgender\" and \"Audrey Hale is a biological woman who, on a social media profile, used male pronouns,” according to Nashville Maleetro PD officials)     1\n",
      "Female                                                                                                                                                                            1\n",
      "Name: gender, dtype: int64\n"
     ]
    }
   ],
   "source": [
    "freq_dist = df['gender'].value_counts()\n",
    "print(freq_dist)"
   ]
  },
  {
   "cell_type": "code",
   "execution_count": 26,
   "id": "70b5fb10",
   "metadata": {},
   "outputs": [],
   "source": [
    "df['gender'] = df['gender'].str.replace('Maleale', 'Male')"
   ]
  },
  {
   "cell_type": "code",
   "execution_count": 27,
   "id": "42748c12",
   "metadata": {},
   "outputs": [
    {
     "name": "stdout",
     "output_type": "stream",
     "text": [
      "Male                                                                                                                                                                             137\n",
      "Male & Femaleemale                                                                                                                                                                 2\n",
      "Femaleemale                                                                                                                                                                        2\n",
      "Female (\"identifies as transgender\" and \"Audrey Hale is a biological woman who, on a social media profile, used male pronouns,” according to Nashville Maleetro PD officials)      1\n",
      "Female                                                                                                                                                                             1\n",
      "Name: gender, dtype: int64\n"
     ]
    }
   ],
   "source": [
    "freq_dist = df['gender'].value_counts()\n",
    "print(freq_dist)"
   ]
  },
  {
   "cell_type": "code",
   "execution_count": 28,
   "id": "9013d00d",
   "metadata": {},
   "outputs": [],
   "source": [
    "df['gender'] = df['gender'].str.replace('Femaleemale', 'Female')"
   ]
  },
  {
   "cell_type": "code",
   "execution_count": 29,
   "id": "634135d7",
   "metadata": {},
   "outputs": [
    {
     "name": "stdout",
     "output_type": "stream",
     "text": [
      "Male                                                                                                                                                                             137\n",
      "Female                                                                                                                                                                             3\n",
      "Male & Female                                                                                                                                                                      2\n",
      "Female (\"identifies as transgender\" and \"Audrey Hale is a biological woman who, on a social media profile, used male pronouns,” according to Nashville Maleetro PD officials)      1\n",
      "Name: gender, dtype: int64\n"
     ]
    }
   ],
   "source": [
    "freq_dist = df['gender'].value_counts()\n",
    "print(freq_dist)"
   ]
  },
  {
   "cell_type": "code",
   "execution_count": 32,
   "id": "e4ba1eca",
   "metadata": {},
   "outputs": [
    {
     "name": "stdout",
     "output_type": "stream",
     "text": [
      "2\n"
     ]
    }
   ],
   "source": [
    "index = df.loc[df['gender'].str.contains('biological')].index[0]\n",
    "\n",
    "print(index)"
   ]
  },
  {
   "cell_type": "code",
   "execution_count": 35,
   "id": "787a311e",
   "metadata": {},
   "outputs": [
    {
     "name": "stderr",
     "output_type": "stream",
     "text": [
      "C:\\Users\\aharb\\AppData\\Local\\Temp\\ipykernel_2096\\635088239.py:1: SettingWithCopyWarning: \n",
      "A value is trying to be set on a copy of a slice from a DataFrame\n",
      "\n",
      "See the caveats in the documentation: https://pandas.pydata.org/pandas-docs/stable/user_guide/indexing.html#returning-a-view-versus-a-copy\n",
      "  df['gender'][2]='Female'\n"
     ]
    }
   ],
   "source": [
    "df['gender'][2]='Female'"
   ]
  },
  {
   "cell_type": "code",
   "execution_count": 36,
   "id": "eb68ce27",
   "metadata": {},
   "outputs": [
    {
     "name": "stdout",
     "output_type": "stream",
     "text": [
      "Male             137\n",
      "Female             4\n",
      "Male & Female      2\n",
      "Name: gender, dtype: int64\n"
     ]
    }
   ],
   "source": [
    "freq_dist = df['gender'].value_counts()\n",
    "print(freq_dist)"
   ]
  },
  {
   "cell_type": "code",
   "execution_count": 37,
   "id": "778db485",
   "metadata": {},
   "outputs": [
    {
     "data": {
      "text/html": [
       "<div>\n",
       "<style scoped>\n",
       "    .dataframe tbody tr th:only-of-type {\n",
       "        vertical-align: middle;\n",
       "    }\n",
       "\n",
       "    .dataframe tbody tr th {\n",
       "        vertical-align: top;\n",
       "    }\n",
       "\n",
       "    .dataframe thead th {\n",
       "        text-align: right;\n",
       "    }\n",
       "</style>\n",
       "<table border=\"1\" class=\"dataframe\">\n",
       "  <thead>\n",
       "    <tr style=\"text-align: right;\">\n",
       "      <th></th>\n",
       "      <th>case</th>\n",
       "      <th>location</th>\n",
       "      <th>date</th>\n",
       "      <th>summary</th>\n",
       "      <th>fatalities</th>\n",
       "      <th>injured</th>\n",
       "      <th>total_victims</th>\n",
       "      <th>location.1</th>\n",
       "      <th>age_of_shooter</th>\n",
       "      <th>prior_signs_mental_health_issues</th>\n",
       "      <th>...</th>\n",
       "      <th>gender</th>\n",
       "      <th>sources</th>\n",
       "      <th>mental_health_sources</th>\n",
       "      <th>sources_additional_age</th>\n",
       "      <th>latitude</th>\n",
       "      <th>longitude</th>\n",
       "      <th>type</th>\n",
       "      <th>year</th>\n",
       "      <th>City</th>\n",
       "      <th>State</th>\n",
       "    </tr>\n",
       "  </thead>\n",
       "  <tbody>\n",
       "    <tr>\n",
       "      <th>0</th>\n",
       "      <td>Texas outlet mall shooting</td>\n",
       "      <td>Allen, Texas</td>\n",
       "      <td>5/6/23</td>\n",
       "      <td>Mauricio Garcia, 33, wore tactical gear and us...</td>\n",
       "      <td>8</td>\n",
       "      <td>7</td>\n",
       "      <td>15</td>\n",
       "      <td>Other</td>\n",
       "      <td>33</td>\n",
       "      <td>yes</td>\n",
       "      <td>...</td>\n",
       "      <td>Male</td>\n",
       "      <td>https://www.nytimes.com/2023/05/07/us/texas-ma...</td>\n",
       "      <td>-</td>\n",
       "      <td>-</td>\n",
       "      <td>-</td>\n",
       "      <td>-</td>\n",
       "      <td>Mass</td>\n",
       "      <td>2023</td>\n",
       "      <td>Allen</td>\n",
       "      <td>Texas</td>\n",
       "    </tr>\n",
       "    <tr>\n",
       "      <th>1</th>\n",
       "      <td>Louisville bank shooting</td>\n",
       "      <td>Louisville, Kentucky</td>\n",
       "      <td>4/10/23</td>\n",
       "      <td>Connor Sturgeon, 25, opened fire inside Old Na...</td>\n",
       "      <td>5</td>\n",
       "      <td>8</td>\n",
       "      <td>13</td>\n",
       "      <td>Workplace</td>\n",
       "      <td>25</td>\n",
       "      <td>yes</td>\n",
       "      <td>...</td>\n",
       "      <td>Male</td>\n",
       "      <td>https://apnews.com/article/downtown-louisville...</td>\n",
       "      <td>-</td>\n",
       "      <td>-</td>\n",
       "      <td>-</td>\n",
       "      <td>-</td>\n",
       "      <td>Mass</td>\n",
       "      <td>2023</td>\n",
       "      <td>Louisville</td>\n",
       "      <td>Kentucky</td>\n",
       "    </tr>\n",
       "  </tbody>\n",
       "</table>\n",
       "<p>2 rows × 26 columns</p>\n",
       "</div>"
      ],
      "text/plain": [
       "                         case              location     date  \\\n",
       "0  Texas outlet mall shooting          Allen, Texas   5/6/23   \n",
       "1    Louisville bank shooting  Louisville, Kentucky  4/10/23   \n",
       "\n",
       "                                             summary  fatalities  injured  \\\n",
       "0  Mauricio Garcia, 33, wore tactical gear and us...           8        7   \n",
       "1  Connor Sturgeon, 25, opened fire inside Old Na...           5        8   \n",
       "\n",
       "   total_victims location.1  age_of_shooter prior_signs_mental_health_issues  \\\n",
       "0             15      Other              33                              yes   \n",
       "1             13  Workplace              25                              yes   \n",
       "\n",
       "   ... gender                                            sources  \\\n",
       "0  ...   Male  https://www.nytimes.com/2023/05/07/us/texas-ma...   \n",
       "1  ...   Male  https://apnews.com/article/downtown-louisville...   \n",
       "\n",
       "  mental_health_sources sources_additional_age latitude longitude  type  year  \\\n",
       "0                     -                      -        -         -  Mass  2023   \n",
       "1                     -                      -        -         -  Mass  2023   \n",
       "\n",
       "         City     State  \n",
       "0       Allen     Texas  \n",
       "1  Louisville  Kentucky  \n",
       "\n",
       "[2 rows x 26 columns]"
      ]
     },
     "execution_count": 37,
     "metadata": {},
     "output_type": "execute_result"
    }
   ],
   "source": [
    "df.head(2)"
   ]
  },
  {
   "cell_type": "code",
   "execution_count": 38,
   "id": "3a3a5ffe",
   "metadata": {},
   "outputs": [
    {
     "name": "stdout",
     "output_type": "stream",
     "text": [
      "Yes         58\n",
      "-           28\n",
      "Unclear     23\n",
      "No          17\n",
      "yes         10\n",
      "TBD          5\n",
      "Unknown      1\n",
      "Unclear      1\n",
      "Name: prior_signs_mental_health_issues, dtype: int64\n"
     ]
    }
   ],
   "source": [
    "freq_dist = df['prior_signs_mental_health_issues'].value_counts()\n",
    "print(freq_dist)"
   ]
  },
  {
   "cell_type": "code",
   "execution_count": 39,
   "id": "1987ac66",
   "metadata": {},
   "outputs": [],
   "source": [
    "df['prior_signs_mental_health_issues'] = df['prior_signs_mental_health_issues'].str.replace('-', 'Unclear')"
   ]
  },
  {
   "cell_type": "code",
   "execution_count": 40,
   "id": "5f28785f",
   "metadata": {},
   "outputs": [
    {
     "name": "stdout",
     "output_type": "stream",
     "text": [
      "Yes         58\n",
      "Unclear     51\n",
      "No          17\n",
      "yes         10\n",
      "TBD          5\n",
      "Unknown      1\n",
      "Unclear      1\n",
      "Name: prior_signs_mental_health_issues, dtype: int64\n"
     ]
    }
   ],
   "source": [
    "freq_dist = df['prior_signs_mental_health_issues'].value_counts()\n",
    "print(freq_dist)"
   ]
  },
  {
   "cell_type": "code",
   "execution_count": 41,
   "id": "f8f1121e",
   "metadata": {},
   "outputs": [],
   "source": [
    "df['prior_signs_mental_health_issues'] = df['prior_signs_mental_health_issues'].str.replace('yes', 'Yes')"
   ]
  },
  {
   "cell_type": "code",
   "execution_count": 42,
   "id": "24032646",
   "metadata": {},
   "outputs": [
    {
     "name": "stdout",
     "output_type": "stream",
     "text": [
      "Yes         68\n",
      "Unclear     51\n",
      "No          17\n",
      "TBD          5\n",
      "Unknown      1\n",
      "Unclear      1\n",
      "Name: prior_signs_mental_health_issues, dtype: int64\n"
     ]
    }
   ],
   "source": [
    "freq_dist = df['prior_signs_mental_health_issues'].value_counts()\n",
    "print(freq_dist)"
   ]
  },
  {
   "cell_type": "code",
   "execution_count": 43,
   "id": "e420975d",
   "metadata": {},
   "outputs": [],
   "source": [
    "index = df.loc[df['prior_signs_mental_health_issues'].str.contains('Unclear ')].index[0]                                                                  "
   ]
  },
  {
   "cell_type": "code",
   "execution_count": 44,
   "id": "cbcf1747",
   "metadata": {},
   "outputs": [
    {
     "name": "stdout",
     "output_type": "stream",
     "text": [
      "139\n"
     ]
    }
   ],
   "source": [
    "print(index)"
   ]
  },
  {
   "cell_type": "code",
   "execution_count": 45,
   "id": "331589f1",
   "metadata": {},
   "outputs": [],
   "source": [
    "df['prior_signs_mental_health_issues'] = df['prior_signs_mental_health_issues'].str.replace('Unclear ', 'Unclear')"
   ]
  },
  {
   "cell_type": "code",
   "execution_count": 53,
   "id": "579f1fc3",
   "metadata": {},
   "outputs": [
    {
     "name": "stdout",
     "output_type": "stream",
     "text": [
      "Yes        68\n",
      "Unclear    52\n",
      "No         17\n",
      "TBD         5\n",
      "Unknown     1\n",
      "Name: prior_signs_mental_health_issues, dtype: int64\n"
     ]
    }
   ],
   "source": [
    "freq_dist = df['prior_signs_mental_health_issues'].value_counts()\n",
    "print(freq_dist)"
   ]
  },
  {
   "cell_type": "code",
   "execution_count": 54,
   "id": "8a94d2c4",
   "metadata": {},
   "outputs": [
    {
     "data": {
      "text/plain": [
       "<AxesSubplot:title={'center':'Mental Health'}>"
      ]
     },
     "execution_count": 54,
     "metadata": {},
     "output_type": "execute_result"
    },
    {
     "data": {
      "image/png": "[encoded data removed]",
      "text/plain": [
       "<Figure size 1200x800 with 1 Axes>"
      ]
     },
     "metadata": {},
     "output_type": "display_data"
    }
   ],
   "source": [
    "freq_dist.plot(kind='bar', x='State', y='Frequency', figsize=(12,8), color='green', width=0.5, title = 'Mental Health')"
   ]
  },
  {
   "cell_type": "code",
   "execution_count": 55,
   "id": "8a1e4848",
   "metadata": {},
   "outputs": [
    {
     "data": {
      "text/html": [
       "<div>\n",
       "<style scoped>\n",
       "    .dataframe tbody tr th:only-of-type {\n",
       "        vertical-align: middle;\n",
       "    }\n",
       "\n",
       "    .dataframe tbody tr th {\n",
       "        vertical-align: top;\n",
       "    }\n",
       "\n",
       "    .dataframe thead th {\n",
       "        text-align: right;\n",
       "    }\n",
       "</style>\n",
       "<table border=\"1\" class=\"dataframe\">\n",
       "  <thead>\n",
       "    <tr style=\"text-align: right;\">\n",
       "      <th></th>\n",
       "      <th>case</th>\n",
       "      <th>location</th>\n",
       "      <th>date</th>\n",
       "      <th>summary</th>\n",
       "      <th>fatalities</th>\n",
       "      <th>injured</th>\n",
       "      <th>total_victims</th>\n",
       "      <th>location.1</th>\n",
       "      <th>age_of_shooter</th>\n",
       "      <th>prior_signs_mental_health_issues</th>\n",
       "      <th>...</th>\n",
       "      <th>gender</th>\n",
       "      <th>sources</th>\n",
       "      <th>mental_health_sources</th>\n",
       "      <th>sources_additional_age</th>\n",
       "      <th>latitude</th>\n",
       "      <th>longitude</th>\n",
       "      <th>type</th>\n",
       "      <th>year</th>\n",
       "      <th>City</th>\n",
       "      <th>State</th>\n",
       "    </tr>\n",
       "  </thead>\n",
       "  <tbody>\n",
       "    <tr>\n",
       "      <th>0</th>\n",
       "      <td>Texas outlet mall shooting</td>\n",
       "      <td>Allen, Texas</td>\n",
       "      <td>5/6/23</td>\n",
       "      <td>Mauricio Garcia, 33, wore tactical gear and us...</td>\n",
       "      <td>8</td>\n",
       "      <td>7</td>\n",
       "      <td>15</td>\n",
       "      <td>Other</td>\n",
       "      <td>33</td>\n",
       "      <td>Yes</td>\n",
       "      <td>...</td>\n",
       "      <td>Male</td>\n",
       "      <td>https://www.nytimes.com/2023/05/07/us/texas-ma...</td>\n",
       "      <td>-</td>\n",
       "      <td>-</td>\n",
       "      <td>-</td>\n",
       "      <td>-</td>\n",
       "      <td>Mass</td>\n",
       "      <td>2023</td>\n",
       "      <td>Allen</td>\n",
       "      <td>Texas</td>\n",
       "    </tr>\n",
       "  </tbody>\n",
       "</table>\n",
       "<p>1 rows × 26 columns</p>\n",
       "</div>"
      ],
      "text/plain": [
       "                         case      location    date  \\\n",
       "0  Texas outlet mall shooting  Allen, Texas  5/6/23   \n",
       "\n",
       "                                             summary  fatalities  injured  \\\n",
       "0  Mauricio Garcia, 33, wore tactical gear and us...           8        7   \n",
       "\n",
       "   total_victims location.1  age_of_shooter prior_signs_mental_health_issues  \\\n",
       "0             15      Other              33                              Yes   \n",
       "\n",
       "   ... gender                                            sources  \\\n",
       "0  ...   Male  https://www.nytimes.com/2023/05/07/us/texas-ma...   \n",
       "\n",
       "  mental_health_sources sources_additional_age latitude longitude  type  year  \\\n",
       "0                     -                      -        -         -  Mass  2023   \n",
       "\n",
       "    City  State  \n",
       "0  Allen  Texas  \n",
       "\n",
       "[1 rows x 26 columns]"
      ]
     },
     "execution_count": 55,
     "metadata": {},
     "output_type": "execute_result"
    }
   ],
   "source": [
    "df.head(1)"
   ]
  },
  {
   "cell_type": "code",
   "execution_count": 58,
   "id": "8ba8a099",
   "metadata": {},
   "outputs": [
    {
     "name": "stdout",
     "output_type": "stream",
     "text": [
      "Collecting folium\n",
      "  Downloading folium-0.14.0-py2.py3-none-any.whl (102 kB)\n",
      "Collecting branca>=0.6.0\n",
      "  Downloading branca-0.6.0-py3-none-any.whl (24 kB)\n",
      "Requirement already satisfied: requests in c:\\users\\aharb\\appdata\\roaming\\python\\python39\\site-packages (from folium) (2.28.2)\n",
      "Requirement already satisfied: numpy in c:\\users\\aharb\\anaconda3\\lib\\site-packages (from folium) (1.22.4)\n",
      "Requirement already satisfied: jinja2>=2.9 in c:\\users\\aharb\\appdata\\roaming\\python\\python39\\site-packages (from folium) (3.1.2)\n",
      "Requirement already satisfied: MarkupSafe>=2.0 in c:\\users\\aharb\\appdata\\roaming\\python\\python39\\site-packages (from jinja2>=2.9->folium) (2.1.2)\n",
      "Requirement already satisfied: certifi>=2017.4.17 in c:\\users\\aharb\\appdata\\roaming\\python\\python39\\site-packages (from requests->folium) (2022.12.7)\n",
      "Requirement already satisfied: idna<4,>=2.5 in c:\\users\\aharb\\appdata\\roaming\\python\\python39\\site-packages (from requests->folium) (3.4)\n",
      "Requirement already satisfied: charset-normalizer<4,>=2 in c:\\users\\aharb\\appdata\\roaming\\python\\python39\\site-packages (from requests->folium) (3.1.0)\n",
      "Requirement already satisfied: urllib3<1.27,>=1.21.1 in c:\\users\\aharb\\appdata\\roaming\\python\\python39\\site-packages (from requests->folium) (1.26.15)\n",
      "Installing collected packages: branca, folium\n",
      "Successfully installed branca-0.6.0 folium-0.14.0\n"
     ]
    }
   ],
   "source": [
    "!pip install folium"
   ]
  },
  {
   "cell_type": "code",
   "execution_count": 6,
   "id": "1b0af520",
   "metadata": {},
   "outputs": [],
   "source": [
    "import folium"
   ]
  },
  {
   "cell_type": "code",
   "execution_count": 7,
   "id": "a5c3a1cf",
   "metadata": {},
   "outputs": [
    {
     "ename": "ValueError",
     "evalue": "Location should consist of two numerical values, but '-' of type <class 'str'> is not convertible to float.",
     "output_type": "error",
     "traceback": [
      "\u001b[1;31m---------------------------------------------------------------------------\u001b[0m",
      "\u001b[1;31mValueError\u001b[0m                                Traceback (most recent call last)",
      "File \u001b[1;32m~\\anaconda3\\lib\\site-packages\\folium\\utilities.py:69\u001b[0m, in \u001b[0;36mvalidate_location\u001b[1;34m(location)\u001b[0m\n\u001b[0;32m     68\u001b[0m \u001b[38;5;28;01mtry\u001b[39;00m:\n\u001b[1;32m---> 69\u001b[0m     \u001b[38;5;28;43mfloat\u001b[39;49m\u001b[43m(\u001b[49m\u001b[43mcoord\u001b[49m\u001b[43m)\u001b[49m\n\u001b[0;32m     70\u001b[0m \u001b[38;5;28;01mexcept\u001b[39;00m (\u001b[38;5;167;01mTypeError\u001b[39;00m, \u001b[38;5;167;01mValueError\u001b[39;00m):\n",
      "\u001b[1;31mValueError\u001b[0m: could not convert string to float: '-'",
      "\nDuring handling of the above exception, another exception occurred:\n",
      "\u001b[1;31mValueError\u001b[0m                                Traceback (most recent call last)",
      "Cell \u001b[1;32mIn[7], line 2\u001b[0m\n\u001b[0;32m      1\u001b[0m \u001b[38;5;66;03m# create a map centered at the first row's coordinates\u001b[39;00m\n\u001b[1;32m----> 2\u001b[0m \u001b[38;5;28mmap\u001b[39m \u001b[38;5;241m=\u001b[39m \u001b[43mfolium\u001b[49m\u001b[38;5;241;43m.\u001b[39;49m\u001b[43mMap\u001b[49m\u001b[43m(\u001b[49m\u001b[43mlocation\u001b[49m\u001b[38;5;241;43m=\u001b[39;49m\u001b[43m[\u001b[49m\u001b[43mdf\u001b[49m\u001b[43m[\u001b[49m\u001b[38;5;124;43m'\u001b[39;49m\u001b[38;5;124;43mlatitude\u001b[39;49m\u001b[38;5;124;43m'\u001b[39;49m\u001b[43m]\u001b[49m\u001b[43m[\u001b[49m\u001b[38;5;241;43m0\u001b[39;49m\u001b[43m]\u001b[49m\u001b[43m,\u001b[49m\u001b[43m \u001b[49m\u001b[43mdf\u001b[49m\u001b[43m[\u001b[49m\u001b[38;5;124;43m'\u001b[39;49m\u001b[38;5;124;43mlongitude\u001b[39;49m\u001b[38;5;124;43m'\u001b[39;49m\u001b[43m]\u001b[49m\u001b[43m[\u001b[49m\u001b[38;5;241;43m0\u001b[39;49m\u001b[43m]\u001b[49m\u001b[43m]\u001b[49m\u001b[43m,\u001b[49m\u001b[43m \u001b[49m\u001b[43mzoom_start\u001b[49m\u001b[38;5;241;43m=\u001b[39;49m\u001b[38;5;241;43m4\u001b[39;49m\u001b[43m)\u001b[49m\n\u001b[0;32m      4\u001b[0m \u001b[38;5;66;03m# add markers for each city\u001b[39;00m\n\u001b[0;32m      5\u001b[0m \u001b[38;5;28;01mfor\u001b[39;00m i, row \u001b[38;5;129;01min\u001b[39;00m df\u001b[38;5;241m.\u001b[39miterrows():\n",
      "File \u001b[1;32m~\\anaconda3\\lib\\site-packages\\folium\\folium.py:274\u001b[0m, in \u001b[0;36mMap.__init__\u001b[1;34m(self, location, width, height, left, top, position, tiles, attr, min_zoom, max_zoom, zoom_start, min_lat, max_lat, min_lon, max_lon, max_bounds, crs, control_scale, prefer_canvas, no_touch, disable_3d, png_enabled, zoom_control, **kwargs)\u001b[0m\n\u001b[0;32m    272\u001b[0m     zoom_start \u001b[38;5;241m=\u001b[39m \u001b[38;5;241m1\u001b[39m\n\u001b[0;32m    273\u001b[0m \u001b[38;5;28;01melse\u001b[39;00m:\n\u001b[1;32m--> 274\u001b[0m     \u001b[38;5;28mself\u001b[39m\u001b[38;5;241m.\u001b[39mlocation \u001b[38;5;241m=\u001b[39m \u001b[43mvalidate_location\u001b[49m\u001b[43m(\u001b[49m\u001b[43mlocation\u001b[49m\u001b[43m)\u001b[49m\n\u001b[0;32m    276\u001b[0m Figure()\u001b[38;5;241m.\u001b[39madd_child(\u001b[38;5;28mself\u001b[39m)\n\u001b[0;32m    278\u001b[0m \u001b[38;5;66;03m# Map Size Parameters.\u001b[39;00m\n",
      "File \u001b[1;32m~\\anaconda3\\lib\\site-packages\\folium\\utilities.py:71\u001b[0m, in \u001b[0;36mvalidate_location\u001b[1;34m(location)\u001b[0m\n\u001b[0;32m     69\u001b[0m     \u001b[38;5;28mfloat\u001b[39m(coord)\n\u001b[0;32m     70\u001b[0m \u001b[38;5;28;01mexcept\u001b[39;00m (\u001b[38;5;167;01mTypeError\u001b[39;00m, \u001b[38;5;167;01mValueError\u001b[39;00m):\n\u001b[1;32m---> 71\u001b[0m     \u001b[38;5;28;01mraise\u001b[39;00m \u001b[38;5;167;01mValueError\u001b[39;00m(\n\u001b[0;32m     72\u001b[0m         \u001b[38;5;124m\"\u001b[39m\u001b[38;5;124mLocation should consist of two numerical values, \u001b[39m\u001b[38;5;124m\"\u001b[39m\n\u001b[0;32m     73\u001b[0m         \u001b[38;5;124m\"\u001b[39m\u001b[38;5;124mbut \u001b[39m\u001b[38;5;132;01m{!r}\u001b[39;00m\u001b[38;5;124m of type \u001b[39m\u001b[38;5;132;01m{}\u001b[39;00m\u001b[38;5;124m is not convertible to float.\u001b[39m\u001b[38;5;124m\"\u001b[39m\u001b[38;5;241m.\u001b[39mformat(\n\u001b[0;32m     74\u001b[0m             coord, \u001b[38;5;28mtype\u001b[39m(coord)\n\u001b[0;32m     75\u001b[0m         )\n\u001b[0;32m     76\u001b[0m     )\n\u001b[0;32m     77\u001b[0m \u001b[38;5;28;01mif\u001b[39;00m math\u001b[38;5;241m.\u001b[39misnan(\u001b[38;5;28mfloat\u001b[39m(coord)):\n\u001b[0;32m     78\u001b[0m     \u001b[38;5;28;01mraise\u001b[39;00m \u001b[38;5;167;01mValueError\u001b[39;00m(\u001b[38;5;124m\"\u001b[39m\u001b[38;5;124mLocation values cannot contain NaNs.\u001b[39m\u001b[38;5;124m\"\u001b[39m)\n",
      "\u001b[1;31mValueError\u001b[0m: Location should consist of two numerical values, but '-' of type <class 'str'> is not convertible to float."
     ]
    }
   ],
   "source": [
    "# create a map centered at the first row's coordinates\n",
    "map = folium.Map(location=[df['latitude'][0], df['longitude'][0]], zoom_start=4)\n",
    "\n",
    "# add markers for each city\n",
    "for i, row in df.iterrows():\n",
    "    folium.Marker([row['latitude'], row['longitude']], popup=row['City']).add_to(map)\n",
    "\n",
    "# display the map\n",
    "map"
   ]
  },
  {
   "cell_type": "code",
   "execution_count": 61,
   "id": "c357a222",
   "metadata": {},
   "outputs": [
    {
     "name": "stdout",
     "output_type": "stream",
     "text": [
      "Number of dashes:  143\n"
     ]
    }
   ],
   "source": [
    "# count the number of \"-\" characters in \"my_column\"\n",
    "num_dashes = df['longitude'].str.count('-').sum()\n",
    "\n",
    "print(\"Number of dashes: \", num_dashes)"
   ]
  },
  {
   "cell_type": "code",
   "execution_count": 64,
   "id": "348485d0",
   "metadata": {},
   "outputs": [],
   "source": [
    "# To get the missing longitudes and Latitudes\n",
    "from geopy.geocoders import Nominatim\n",
    "# create a geocoder instance\n",
    "geolocator = Nominatim(user_agent=\"my-app\")\n",
    "\n",
    "# define a function to geocode a city name\n",
    "def geocode_city(city):\n",
    "    location = geolocator.geocode(city)\n",
    "    if location:\n",
    "        return location.latitude, location.longitude\n",
    "    else:\n",
    "        return None, None\n",
    "\n",
    "# apply the function to the 'city' column and create new columns for latitude and longitude\n",
    "df[['latitude', 'longitude']] = df['City'].apply(geocode_city).apply(pd.Series)    "
   ]
  },
  {
   "cell_type": "code",
   "execution_count": 63,
   "id": "9df4b5bb",
   "metadata": {},
   "outputs": [
    {
     "name": "stdout",
     "output_type": "stream",
     "text": [
      "Collecting geopyNote: you may need to restart the kernel to use updated packages.\n",
      "\n",
      "  Downloading geopy-2.3.0-py3-none-any.whl (119 kB)\n",
      "Collecting geographiclib<3,>=1.52\n",
      "  Downloading geographiclib-2.0-py3-none-any.whl (40 kB)\n",
      "Installing collected packages: geographiclib, geopy\n",
      "Successfully installed geographiclib-2.0 geopy-2.3.0\n"
     ]
    }
   ],
   "source": [
    "pip install geopy"
   ]
  },
  {
   "cell_type": "code",
   "execution_count": 65,
   "id": "b2925a05",
   "metadata": {},
   "outputs": [
    {
     "data": {
      "text/html": [
       "<div>\n",
       "<style scoped>\n",
       "    .dataframe tbody tr th:only-of-type {\n",
       "        vertical-align: middle;\n",
       "    }\n",
       "\n",
       "    .dataframe tbody tr th {\n",
       "        vertical-align: top;\n",
       "    }\n",
       "\n",
       "    .dataframe thead th {\n",
       "        text-align: right;\n",
       "    }\n",
       "</style>\n",
       "<table border=\"1\" class=\"dataframe\">\n",
       "  <thead>\n",
       "    <tr style=\"text-align: right;\">\n",
       "      <th></th>\n",
       "      <th>case</th>\n",
       "      <th>location</th>\n",
       "      <th>date</th>\n",
       "      <th>summary</th>\n",
       "      <th>fatalities</th>\n",
       "      <th>injured</th>\n",
       "      <th>total_victims</th>\n",
       "      <th>location.1</th>\n",
       "      <th>age_of_shooter</th>\n",
       "      <th>prior_signs_mental_health_issues</th>\n",
       "      <th>...</th>\n",
       "      <th>gender</th>\n",
       "      <th>sources</th>\n",
       "      <th>mental_health_sources</th>\n",
       "      <th>sources_additional_age</th>\n",
       "      <th>latitude</th>\n",
       "      <th>longitude</th>\n",
       "      <th>type</th>\n",
       "      <th>year</th>\n",
       "      <th>City</th>\n",
       "      <th>State</th>\n",
       "    </tr>\n",
       "  </thead>\n",
       "  <tbody>\n",
       "    <tr>\n",
       "      <th>0</th>\n",
       "      <td>Texas outlet mall shooting</td>\n",
       "      <td>Allen, Texas</td>\n",
       "      <td>5/6/23</td>\n",
       "      <td>Mauricio Garcia, 33, wore tactical gear and us...</td>\n",
       "      <td>8</td>\n",
       "      <td>7</td>\n",
       "      <td>15</td>\n",
       "      <td>Other</td>\n",
       "      <td>33</td>\n",
       "      <td>Yes</td>\n",
       "      <td>...</td>\n",
       "      <td>Male</td>\n",
       "      <td>https://www.nytimes.com/2023/05/07/us/texas-ma...</td>\n",
       "      <td>-</td>\n",
       "      <td>-</td>\n",
       "      <td>40.807780</td>\n",
       "      <td>-84.057222</td>\n",
       "      <td>Mass</td>\n",
       "      <td>2023</td>\n",
       "      <td>Allen</td>\n",
       "      <td>Texas</td>\n",
       "    </tr>\n",
       "    <tr>\n",
       "      <th>1</th>\n",
       "      <td>Louisville bank shooting</td>\n",
       "      <td>Louisville, Kentucky</td>\n",
       "      <td>4/10/23</td>\n",
       "      <td>Connor Sturgeon, 25, opened fire inside Old Na...</td>\n",
       "      <td>5</td>\n",
       "      <td>8</td>\n",
       "      <td>13</td>\n",
       "      <td>Workplace</td>\n",
       "      <td>25</td>\n",
       "      <td>Yes</td>\n",
       "      <td>...</td>\n",
       "      <td>Male</td>\n",
       "      <td>https://apnews.com/article/downtown-louisville...</td>\n",
       "      <td>-</td>\n",
       "      <td>-</td>\n",
       "      <td>38.254238</td>\n",
       "      <td>-85.759407</td>\n",
       "      <td>Mass</td>\n",
       "      <td>2023</td>\n",
       "      <td>Louisville</td>\n",
       "      <td>Kentucky</td>\n",
       "    </tr>\n",
       "  </tbody>\n",
       "</table>\n",
       "<p>2 rows × 26 columns</p>\n",
       "</div>"
      ],
      "text/plain": [
       "                         case              location     date  \\\n",
       "0  Texas outlet mall shooting          Allen, Texas   5/6/23   \n",
       "1    Louisville bank shooting  Louisville, Kentucky  4/10/23   \n",
       "\n",
       "                                             summary  fatalities  injured  \\\n",
       "0  Mauricio Garcia, 33, wore tactical gear and us...           8        7   \n",
       "1  Connor Sturgeon, 25, opened fire inside Old Na...           5        8   \n",
       "\n",
       "   total_victims location.1  age_of_shooter prior_signs_mental_health_issues  \\\n",
       "0             15      Other              33                              Yes   \n",
       "1             13  Workplace              25                              Yes   \n",
       "\n",
       "   ... gender                                            sources  \\\n",
       "0  ...   Male  https://www.nytimes.com/2023/05/07/us/texas-ma...   \n",
       "1  ...   Male  https://apnews.com/article/downtown-louisville...   \n",
       "\n",
       "  mental_health_sources sources_additional_age   latitude  longitude  type  \\\n",
       "0                     -                      -  40.807780 -84.057222  Mass   \n",
       "1                     -                      -  38.254238 -85.759407  Mass   \n",
       "\n",
       "   year        City     State  \n",
       "0  2023       Allen     Texas  \n",
       "1  2023  Louisville  Kentucky  \n",
       "\n",
       "[2 rows x 26 columns]"
      ]
     },
     "execution_count": 65,
     "metadata": {},
     "output_type": "execute_result"
    }
   ],
   "source": [
    "df.head(2)"
   ]
  },
  {
   "cell_type": "code",
   "execution_count": 67,
   "id": "a5b72e8d",
   "metadata": {},
   "outputs": [
    {
     "name": "stdout",
     "output_type": "stream",
     "text": [
      "Texas outlet mall shooting\n",
      "Louisville bank shooting\n",
      "Nashville Christian school shooting\n",
      "Michigan State University shooting\n",
      "Half Moon Bay spree shooting\n",
      "LA dance studio mass shooting\n",
      "Virginia Walmart shooting\n",
      "LGBTQ club shooting\n",
      "University of Virginia shooting\n",
      "Raleigh spree shooting\n",
      "Greenwood Park Mall shooting\n",
      "Highland Park July 4 parade shooting\n",
      "Church potluck dinner shooting\n",
      "Concrete company shooting\n",
      "Tulsa medical center shooting\n",
      "Robb Elementary School massacre\n",
      "Buffalo supermarket massacre\n",
      "Sacramento County church shooting\n",
      "Oxford High School shooting\n",
      "San Jose VTA shooting\n",
      "FedEx warehouse shooting\n",
      "Orange office complex shooting\n",
      "Boulder supermarket shooting\n",
      "Atlanta massage parlor shootings\n",
      "Springfield convenience store shooting\n",
      "Molson Coors shooting\n",
      "Jersey City kosher market shooting\n",
      "Pensacola Naval base shooting\n",
      "Odessa-Midland shooting spree\n",
      "Dayton entertainment district shooting\n",
      "El Paso Walmart mass shooting\n",
      "Gilroy garlic festival shooting\n",
      "Virginia Beach municipal building shooting\n",
      "Harry Pratt Co. warehouse shooting\n",
      "Pennsylvania hotel bar shooting\n",
      "SunTrust bank shooting\n",
      "Mercy Hospital shooting\n",
      "Thousand Oaks nightclub shooting\n",
      "Tree of Life synagogue shooting\n",
      "Rite Aid warehouse shooting\n",
      "T&T Trucking shooting\n",
      "Fifth Third Center shooting\n",
      "Capital Gazette shooting\n",
      "Santa Fe High School shooting\n",
      "Waffle House shooting\n",
      "Yountville veterans home shooting\n",
      "Marjory Stoneman Douglas High School shooting\n",
      "Pennsylvania carwash shooting\n",
      "Rancho Tehama shooting spree\n",
      "Texas First Baptist Church massacre\n",
      "Walmart shooting in suburban Denver\n",
      "Edgewood businees park shooting\n",
      "Las Vegas Strip massacre\n",
      "San Francisco UPS shooting\n",
      "Pennsylvania supermarket shooting\n",
      "Florida awning manufacturer shooting\n",
      "Rural Ohio nursing home shooting\n",
      "Fresno downtown shooting\n",
      "Fort Lauderdale airport shooting\n",
      "Cascade Mall shooting\n",
      "Baton Rouge police shooting\n",
      "Dallas police shooting\n",
      "Orlando nightclub massacre\n",
      "Excel Industries mass shooting\n",
      "Kalamazoo shooting spree\n",
      "San Bernardino mass shooting\n",
      "Planned Parenthood clinic\n",
      "Colorado Springs shooting rampage\n",
      "Umpqua Community College shooting\n",
      "Chattanooga military recruitment center\n",
      "Charleston Church Shooting\n",
      "Trestle Trail bridge shooting\n",
      "Marysville-Pilchuck High School shooting\n",
      "Isla Vista mass murder\n",
      "Fort Hood shooting 2\n",
      "Alturas tribal shooting\n",
      "Washington Navy Yard shooting\n",
      "Hialeah apartment shooting\n",
      "Santa Monica rampage\n",
      "Pinewood Village Apartment shooting\n",
      "Mohawk Valley shootings\n",
      "Sandy Hook Elementary massacre\n",
      "Accent Signage Systems shooting\n",
      "Sikh temple shooting\n",
      "Aurora theater shooting\n",
      "Seattle cafe shooting\n",
      "Oikos University killings\n",
      "Su Jung Health Sauna shooting\n",
      "Seal Beach shooting\n",
      "IHOP shooting\n",
      "Tucson shooting\n",
      "Hartford Beer Distributor shooting\n",
      "Coffee shop police killings\n",
      "Fort Hood massacre\n",
      "Binghamton shootings\n",
      "Carthage nursing home shooting\n",
      "Atlantis Plastics shooting\n",
      "Northern Illinois University shooting\n",
      "Kirkwood City Council shooting\n",
      "Westroads Mall shooting\n",
      "Crandon shooting\n",
      "Virginia Tech massacre\n",
      "Trolley Square shooting\n",
      "Amish school shooting\n",
      "Capitol Hill massacre\n",
      "Goleta postal shootings\n",
      "Red Lake massacre\n",
      "Living Church of God shooting\n",
      "Damageplan show shooting\n",
      "Lockheed Martin shooting\n",
      "Navistar shooting\n",
      "Wakefield massacre\n",
      "Hotel shooting\n",
      "Xerox killings\n",
      "Wedgwood Baptist Church shooting\n",
      "Atlanta day trading spree killings\n",
      "Columbine High School massacre\n",
      "Thurston High School shooting\n",
      "Westside Middle School killings\n",
      "Connecticut Lottery shooting\n",
      "Caltrans maintenance yard shooting\n",
      "R.E. Phelon Company shooting\n",
      "Fort Lauderdale revenge shooting\n",
      "Walter Rossler Company massacre\n",
      "Air Force base shooting\n",
      "Chuck E. Cheese's killings\n",
      "Long Island Rail Road massacre\n",
      "Luigi's shooting\n",
      "101 California Street shootings\n",
      "Watkins Glen killings\n",
      "Lindhurst High School shooting\n",
      "Royal Oak postal shootings\n",
      "University of Iowa shooting\n",
      "Luby's massacre\n",
      "GMAC massacre\n",
      "Standard Gravure shooting\n",
      "Stockton schoolyard shooting\n",
      "ESL shooting\n",
      "Shopping centers spree killings\n",
      "United States Postal Service shooting\n",
      "San Ysidro McDonald's massacre\n",
      "Dallas nightclub shooting\n",
      "Welding shop shooting\n"
     ]
    }
   ],
   "source": [
    "import time\n",
    "# iterate over the entries in the 'col1' column and pause before displaying each new entry\n",
    "for index, row in df.iterrows():\n",
    "    print(row['case'])\n",
    "    time.sleep(5)  # pause for 5 second"
   ]
  },
  {
   "cell_type": "code",
   "execution_count": 68,
   "id": "9a556b59",
   "metadata": {},
   "outputs": [
    {
     "name": "stdout",
     "output_type": "stream",
     "text": [
      "The 95.0% confidence interval for the dataset is: (31.909971338229496, 36.243874815616664)\n"
     ]
    }
   ],
   "source": [
    "# To construct a confindence interval for the mean\n",
    "import numpy as np\n",
    "from scipy import stats\n",
    "\n",
    "\n",
    "# calculate the mean and standard deviation of the dataset\n",
    "mean = np.mean(df['age_of_shooter'])\n",
    "std_dev = np.std(df['age_of_shooter'], ddof=1)  # set ddof=1 for unbiased estimate of the standard deviation\n",
    "\n",
    "# set the confidence level and degrees of freedom\n",
    "confidence_level = 0.95\n",
    "degrees_of_freedom = len(df) - 1\n",
    "\n",
    "# calculate the confidence interval\n",
    "ci = stats.t.interval(confidence_level, degrees_of_freedom, loc=mean, scale=std_dev / np.sqrt(len(df)))\n",
    "\n",
    "print(f\"The {confidence_level*100}% confidence interval for the dataset is: {ci}\")"
   ]
  },
  {
   "cell_type": "code",
   "execution_count": 71,
   "id": "dd7833f2",
   "metadata": {},
   "outputs": [
    {
     "name": "stdout",
     "output_type": "stream",
     "text": [
      "t-statistic: 1.89\n",
      "p-value: 0.0602\n",
      "Fail to reject null hypothesis\n"
     ]
    }
   ],
   "source": [
    "# Hypothesis Testing\n",
    "import pandas as pd\n",
    "from scipy.stats import ttest_1samp\n",
    "\n",
    "\n",
    "\n",
    "# set the null hypothesis mean\n",
    "null_mean = 32\n",
    "\n",
    "# perform a one-sample t-test\n",
    "t_statistic, p_value = ttest_1samp(df['age_of_shooter'], null_mean)\n",
    "\n",
    "# print the results\n",
    "print(f\"t-statistic: {t_statistic:.2f}\")\n",
    "print(f\"p-value: {p_value:.4f}\")\n",
    "\n",
    "if p_value < 0.05:\n",
    "    print(\"Reject null hypothesis\")\n",
    "else:\n",
    "    print(\"Fail to reject null hypothesis\")\n"
   ]
  },
  {
   "cell_type": "code",
   "execution_count": 8,
   "id": "ab879384",
   "metadata": {},
   "outputs": [
    {
     "name": "stdout",
     "output_type": "stream",
     "text": [
      "                                      case                   location  \\\n",
      "0               Texas outlet mall shooting               Allen, Texas   \n",
      "1                 Louisville bank shooting       Louisville, Kentucky   \n",
      "2      Nashville Christian school shooting       Nashville, Tennessee   \n",
      "3       Michigan State University shooting     East Lansing, Michigan   \n",
      "4             Half Moon Bay spree shooting  Half Moon Bay, California   \n",
      "..                                     ...                        ...   \n",
      "138        Shopping centers spree killings          Palm Bay, Florida   \n",
      "139  United States Postal Service shooting           Edmond, Oklahoma   \n",
      "140         San Ysidro McDonald's massacre     San Ysidro, California   \n",
      "141              Dallas nightclub shooting              Dallas, Texas   \n",
      "142                  Welding shop shooting             Miami, Florida   \n",
      "\n",
      "          date                                            summary  fatalities  \\\n",
      "0       5/6/23  Mauricio Garcia, 33, wore tactical gear and us...           8   \n",
      "1      4/10/23  Connor Sturgeon, 25, opened fire inside Old Na...           5   \n",
      "2      3/27/23  Audrey Hale, 28, who was a former student at t...           6   \n",
      "3      2/13/23  Anthony D. McRae, 43, opened fire at Berkey Ha...           3   \n",
      "4      1/23/23  Chunli Zhao, 67, suspected of carrying out the...           7   \n",
      "..         ...                                                ...         ...   \n",
      "138  4/23/1987  Retired librarian William Cruse, 59, was paran...           6   \n",
      "139  8/20/1986  Postal worker Patrick Sherrill, 44, opened fir...          15   \n",
      "140  7/18/1984  James Oliver Huberty, 41, opened fire in a McD...          22   \n",
      "141  6/29/1984  Abdelkrim Belachheb, 39, opened fire at an ups...           6   \n",
      "142  8/20/1982  Junior high school teacher Carl Robert Brown, ...           8   \n",
      "\n",
      "     injured  total_victims location.1  age_of_shooter  \\\n",
      "0          7             15      Other              33   \n",
      "1          8             13  Workplace              25   \n",
      "2          6             12     School              28   \n",
      "3          5              8     School              43   \n",
      "4          1              8  Workplace              67   \n",
      "..       ...            ...        ...             ...   \n",
      "138       14             20      Other              59   \n",
      "139        6             21  Workplace              44   \n",
      "140       19             41      Other              41   \n",
      "141        1              7      Other              39   \n",
      "142        3             11      Other              51   \n",
      "\n",
      "    prior_signs_mental_health_issues  ...  year           City       State  \\\n",
      "0                                yes  ...  2023          Allen       Texas   \n",
      "1                                yes  ...  2023     Louisville    Kentucky   \n",
      "2                                  -  ...  2023      Nashville   Tennessee   \n",
      "3                                  -  ...  2023   East Lansing    Michigan   \n",
      "4                                  -  ...  2023  Half Moon Bay  California   \n",
      "..                               ...  ...   ...            ...         ...   \n",
      "138                              Yes  ...  1987       Palm Bay     Florida   \n",
      "139                         Unclear   ...  1986         Edmond    Oklahoma   \n",
      "140                              Yes  ...  1984     San Ysidro  California   \n",
      "141                              Yes  ...  1984         Dallas       Texas   \n",
      "142                              Yes  ...  1982          Miami     Florida   \n",
      "\n",
      "    race_Asian race_Black race_Latino race_Native American race_Other  \\\n",
      "0            0          0           0                    0          0   \n",
      "1            0          0           0                    0          0   \n",
      "2            0          0           0                    0          0   \n",
      "3            0          1           0                    0          0   \n",
      "4            1          0           0                    0          0   \n",
      "..         ...        ...         ...                  ...        ...   \n",
      "138          0          0           0                    0          0   \n",
      "139          0          0           0                    0          0   \n",
      "140          0          0           0                    0          0   \n",
      "141          0          0           0                    0          0   \n",
      "142          0          0           0                    0          0   \n",
      "\n",
      "    race_Unclear race_White  \n",
      "0              1          0  \n",
      "1              0          1  \n",
      "2              0          1  \n",
      "3              0          0  \n",
      "4              0          0  \n",
      "..           ...        ...  \n",
      "138            0          1  \n",
      "139            0          1  \n",
      "140            0          1  \n",
      "141            0          1  \n",
      "142            0          1  \n",
      "\n",
      "[143 rows x 33 columns]\n"
     ]
    }
   ],
   "source": [
    "# One-hot encoding to prepare of a proportion confidence interval\n",
    "\n",
    "\n",
    "# one-hot encode the 'color' column\n",
    "one_hot = pd.get_dummies(df['race'], prefix='race')\n",
    "\n",
    "# concatenate the one-hot encoded columns with the original DataFrame\n",
    "df = pd.concat([df, one_hot], axis=1)\n",
    "\n",
    "# print the result\n",
    "print(df)"
   ]
  },
  {
   "cell_type": "code",
   "execution_count": 73,
   "id": "b19a8870",
   "metadata": {},
   "outputs": [
    {
     "name": "stdout",
     "output_type": "stream",
     "text": [
      "Proportion: 0.52\n",
      "Confidence interval: (0.44262355702586187, 0.6063274919251871)\n"
     ]
    }
   ],
   "source": [
    "# Confidence Interval for a Proportion \n",
    "from statsmodels.stats.proportion import proportion_confint\n",
    "\n",
    "# calculate the proportion of successes\n",
    "proportion = df['race_White'].sum() / len(df)\n",
    "\n",
    "# calculate the confidence interval\n",
    "ci = proportion_confint(count=df['race_White'].sum(), nobs=len(df), alpha=0.05, method='normal')\n",
    "\n",
    "# print the results\n",
    "print(f\"Proportion: {proportion:.2f}\")\n",
    "print(f\"Confidence interval: {ci}\")"
   ]
  },
  {
   "cell_type": "code",
   "execution_count": 4,
   "id": "9b1cc711",
   "metadata": {},
   "outputs": [],
   "source": [
    "df = pd.read_csv('Mass_Shootings.csv')"
   ]
  },
  {
   "cell_type": "code",
   "execution_count": 2,
   "id": "bc5a5549",
   "metadata": {},
   "outputs": [],
   "source": [
    "import pandas as pd"
   ]
  },
  {
   "cell_type": "code",
   "execution_count": 9,
   "id": "d89be8e3",
   "metadata": {},
   "outputs": [
    {
     "data": {
      "text/html": [
       "<div>\n",
       "<style scoped>\n",
       "    .dataframe tbody tr th:only-of-type {\n",
       "        vertical-align: middle;\n",
       "    }\n",
       "\n",
       "    .dataframe tbody tr th {\n",
       "        vertical-align: top;\n",
       "    }\n",
       "\n",
       "    .dataframe thead th {\n",
       "        text-align: right;\n",
       "    }\n",
       "</style>\n",
       "<table border=\"1\" class=\"dataframe\">\n",
       "  <thead>\n",
       "    <tr style=\"text-align: right;\">\n",
       "      <th></th>\n",
       "      <th>case</th>\n",
       "      <th>location</th>\n",
       "      <th>date</th>\n",
       "      <th>summary</th>\n",
       "      <th>fatalities</th>\n",
       "      <th>injured</th>\n",
       "      <th>total_victims</th>\n",
       "      <th>location.1</th>\n",
       "      <th>age_of_shooter</th>\n",
       "      <th>prior_signs_mental_health_issues</th>\n",
       "      <th>...</th>\n",
       "      <th>year</th>\n",
       "      <th>City</th>\n",
       "      <th>State</th>\n",
       "      <th>race_Asian</th>\n",
       "      <th>race_Black</th>\n",
       "      <th>race_Latino</th>\n",
       "      <th>race_Native American</th>\n",
       "      <th>race_Other</th>\n",
       "      <th>race_Unclear</th>\n",
       "      <th>race_White</th>\n",
       "    </tr>\n",
       "  </thead>\n",
       "  <tbody>\n",
       "    <tr>\n",
       "      <th>0</th>\n",
       "      <td>Texas outlet mall shooting</td>\n",
       "      <td>Allen, Texas</td>\n",
       "      <td>5/6/23</td>\n",
       "      <td>Mauricio Garcia, 33, wore tactical gear and us...</td>\n",
       "      <td>8</td>\n",
       "      <td>7</td>\n",
       "      <td>15</td>\n",
       "      <td>Other</td>\n",
       "      <td>33</td>\n",
       "      <td>yes</td>\n",
       "      <td>...</td>\n",
       "      <td>2023</td>\n",
       "      <td>Allen</td>\n",
       "      <td>Texas</td>\n",
       "      <td>0</td>\n",
       "      <td>0</td>\n",
       "      <td>0</td>\n",
       "      <td>0</td>\n",
       "      <td>0</td>\n",
       "      <td>1</td>\n",
       "      <td>0</td>\n",
       "    </tr>\n",
       "    <tr>\n",
       "      <th>1</th>\n",
       "      <td>Louisville bank shooting</td>\n",
       "      <td>Louisville, Kentucky</td>\n",
       "      <td>4/10/23</td>\n",
       "      <td>Connor Sturgeon, 25, opened fire inside Old Na...</td>\n",
       "      <td>5</td>\n",
       "      <td>8</td>\n",
       "      <td>13</td>\n",
       "      <td>Workplace</td>\n",
       "      <td>25</td>\n",
       "      <td>yes</td>\n",
       "      <td>...</td>\n",
       "      <td>2023</td>\n",
       "      <td>Louisville</td>\n",
       "      <td>Kentucky</td>\n",
       "      <td>0</td>\n",
       "      <td>0</td>\n",
       "      <td>0</td>\n",
       "      <td>0</td>\n",
       "      <td>0</td>\n",
       "      <td>0</td>\n",
       "      <td>1</td>\n",
       "    </tr>\n",
       "  </tbody>\n",
       "</table>\n",
       "<p>2 rows × 33 columns</p>\n",
       "</div>"
      ],
      "text/plain": [
       "                         case              location     date  \\\n",
       "0  Texas outlet mall shooting          Allen, Texas   5/6/23   \n",
       "1    Louisville bank shooting  Louisville, Kentucky  4/10/23   \n",
       "\n",
       "                                             summary  fatalities  injured  \\\n",
       "0  Mauricio Garcia, 33, wore tactical gear and us...           8        7   \n",
       "1  Connor Sturgeon, 25, opened fire inside Old Na...           5        8   \n",
       "\n",
       "   total_victims location.1  age_of_shooter prior_signs_mental_health_issues  \\\n",
       "0             15      Other              33                              yes   \n",
       "1             13  Workplace              25                              yes   \n",
       "\n",
       "   ...  year        City     State race_Asian race_Black race_Latino  \\\n",
       "0  ...  2023       Allen     Texas          0          0           0   \n",
       "1  ...  2023  Louisville  Kentucky          0          0           0   \n",
       "\n",
       "  race_Native American race_Other race_Unclear race_White  \n",
       "0                    0          0            1          0  \n",
       "1                    0          0            0          1  \n",
       "\n",
       "[2 rows x 33 columns]"
      ]
     },
     "execution_count": 9,
     "metadata": {},
     "output_type": "execute_result"
    }
   ],
   "source": [
    "df.head(2)"
   ]
  },
  {
   "cell_type": "code",
   "execution_count": null,
   "id": "efac5f6a",
   "metadata": {},
   "outputs": [],
   "source": []
  }
 ],
 "metadata": {
  "kernelspec": {
   "display_name": "Python 3 (ipykernel)",
   "language": "python",
   "name": "python3"
  },
  "language_info": {
   "codemirror_mode": {
    "name": "ipython",
    "version": 3
   },
   "file_extension": ".py",
   "mimetype": "text/x-python",
   "name": "python",
   "nbconvert_exporter": "python",
   "pygments_lexer": "ipython3",
   "version": "3.9.12"
  }
 },
 "nbformat": 4,
 "nbformat_minor": 5
}
